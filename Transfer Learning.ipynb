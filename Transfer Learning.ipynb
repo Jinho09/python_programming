{
 "cells": [
  {
   "cell_type": "code",
   "execution_count": 5,
   "id": "01894d01-407e-4e06-91ba-15454d83312d",
   "metadata": {},
   "outputs": [],
   "source": [
    "root_dir = 'C:\\\\Users\\\\baekj\\\\Downloads\\\\dog_image'"
   ]
  },
  {
   "cell_type": "code",
   "execution_count": 6,
   "id": "862f91a2-479b-4933-bf65-a68ea0b788f4",
   "metadata": {},
   "outputs": [],
   "source": [
    "import os\n",
    "import shutil\n",
    "\n",
    "if os.path.exists( os.path.join(root_dir, 'dog_image') ):\n",
    "    shutil.rmtree( os.path.join(root_dir, 'dog_image') )"
   ]
  },
  {
   "cell_type": "code",
   "execution_count": 7,
   "id": "3b87970d-42bd-495c-8041-95cc22bac5ec",
   "metadata": {},
   "outputs": [],
   "source": [
    "import os\n",
    "import shutil\n",
    "\n",
    "if not os.path.exists(os.path.join(root_dir, '\\\\test')):    \n",
    "    os.mkdir(os.path.join(root_dir, '\\\\test'))\n",
    "\n",
    "if not os.path.exists(os.path.join(root_dir, '\\\\test_image_files')):    \n",
    "    os.mkdir(os.path.join(root_dir, '\\\\test_image_files'))"
   ]
  },
  {
   "cell_type": "code",
   "execution_count": 8,
   "id": "0e3de9a2-6ad3-498b-884e-4206c0a7748e",
   "metadata": {},
   "outputs": [
    {
     "name": "stdout",
     "output_type": "stream",
     "text": [
      "total label nums =  4\n",
      "=================================================\n",
      "['chihuahua', 'jindo_dog', 'shepherd', 'yorkshire_terrier']\n"
     ]
    }
   ],
   "source": [
    "# 데이터 전체 개수 확인\n",
    "\n",
    "import os\n",
    "import glob\n",
    "\n",
    "label_name_list = os.listdir(os.path.join(root_dir, 'C:\\\\Users\\\\baekj\\\\Downloads\\\\dog_image\\\\train'))\n",
    "\n",
    "print('total label nums = ', len(label_name_list))\n",
    "print('=================================================')\n",
    "print(label_name_list)"
   ]
  },
  {
   "cell_type": "code",
   "execution_count": 9,
   "id": "a323b52e-376f-402d-b493-7b0581fc3424",
   "metadata": {},
   "outputs": [],
   "source": [
    "import os\n",
    "import glob\n",
    "import shutil\n",
    "\n",
    "ratio = 0.1    # train : test = 90 : 10\n",
    "\n",
    "src_root_dir = os.path.join(root_dir, 'C:/Users/baekj/Downloads/dog_image/train')\n",
    "dst_root_dir = os.path.join(root_dir, 'C:/Users/baekj/Downloads/dog_image/test')\n",
    "\n",
    "label_name_list = os.listdir(src_root_dir) \n",
    "\n",
    "for label_name in label_name_list:   # test 디렉토리에 label 디렉토리 생성\n",
    "    dst_label_name_dir = os.path.join(dst_root_dir, label_name)\n",
    "\n",
    "    if not os.path.exists(dst_label_name_dir):\n",
    "        os.mkdir(dst_label_name_dir)\n",
    "\n",
    "#for label_name in label_name_list:    # 파일 move src dir => dst dir\n",
    "#    train_image_file_list = glob.glob(os.path.join(src_root_dir, label_name, '*'))\n",
    "#    split_num = int(ratio * len(train_image_file_list))\n",
    "#    test_image_file_list = train_image_file_list[0:split_num]\n",
    "\n",
    "#    for image_file in test_image_file_list:\n",
    "#        shutil.move(image_file, os.path.join(dst_root_dir, label_name))    # move"
   ]
  },
  {
   "cell_type": "code",
   "execution_count": 28,
   "id": "2f9c773d-e6ed-4e82-b12d-1b52b6e47ffb",
   "metadata": {},
   "outputs": [
    {
     "name": "stdout",
     "output_type": "stream",
     "text": [
      "4 4\n",
      "train =>  chihuahua 242  , test =>  chihuahua 123\n",
      "=======================================================\n",
      "train =>  jindo_dog 237  , test =>  jindo_dog 123\n",
      "=======================================================\n",
      "train =>  shepherd 249  , test =>  shepherd 127\n",
      "=======================================================\n",
      "train =>  yorkshire_terrier 251  , test =>  yorkshire_terrier 128\n",
      "=======================================================\n"
     ]
    }
   ],
   "source": [
    "# train : test 데이터 비율 확인\n",
    "\n",
    "src_root_dir = os.path.join(root_dir, 'C:/Users/baekj/Downloads/dog_image/train')\n",
    "dst_root_dir = os.path.join(root_dir, 'C:/Users/baekj/Downloads/dog_image/test')\n",
    "\n",
    "train_label_name_list = os.listdir(src_root_dir)\n",
    "test_label_name_list = os.listdir(dst_root_dir)\n",
    "\n",
    "train_label_name_list.sort()\n",
    "test_label_name_list.sort()\n",
    "\n",
    "if train_label_name_list != test_label_name_list:\n",
    "    print('fatal error !!!!')\n",
    "else:\n",
    "    print(len(train_label_name_list), len(test_label_name_list))\n",
    "\n",
    "# 데이터 개수 확인\n",
    "\n",
    "for label_name in train_label_name_list:\n",
    "\n",
    "    train_data_nums = len(os.listdir(os.path.join(src_root_dir, label_name)))\n",
    "    test_data_nums = len(os.listdir(os.path.join(dst_root_dir, label_name)))\n",
    "\n",
    "    print('train => ', label_name, train_data_nums, ' , test => ', label_name, test_data_nums)\n",
    "    print('=======================================================')"
   ]
  },
  {
   "cell_type": "code",
   "execution_count": 10,
   "id": "2cc8af02-610e-4bfb-904c-212ca31330b9",
   "metadata": {},
   "outputs": [
    {
     "name": "stdout",
     "output_type": "stream",
     "text": [
      "total [chihuahua] image file nums => [123]\n",
      "total copy nums =>  123\n",
      "total [jindo_dog] image file nums => [123]\n",
      "total copy nums =>  123\n",
      "total [shepherd] image file nums => [127]\n",
      "total copy nums =>  127\n",
      "total [yorkshire_terrier] image file nums => [128]\n",
      "total copy nums =>  128\n"
     ]
    }
   ],
   "source": [
    "import os\n",
    "import glob\n",
    "import shutil\n",
    "\n",
    "src_root_dir = os.path.join(root_dir, 'C:/Users/baekj/Downloads/dog_image/test/')\n",
    "dst_root_dir = os.path.join(root_dir, 'C:/Users/baekj/Downloads/dog_image/test_image_files/')\n",
    "\n",
    "# 대상 디렉토리가 없다면 생성합니다.\n",
    "if not os.path.exists(dst_root_dir):\n",
    "    os.makedirs(dst_root_dir)\n",
    "\n",
    "label_name_list = os.listdir(src_root_dir)\n",
    "\n",
    "for label_name in label_name_list:  # 파일 copy src dir => dst dir\n",
    "    image_file_list = glob.glob(os.path.join(src_root_dir, label_name, '*'))\n",
    "    print('total [%s] image file nums => [%s]' % (label_name, len(image_file_list)))\n",
    "\n",
    "    copy_nums = 0\n",
    "\n",
    "    for image_file in image_file_list:\n",
    "        shutil.copy(image_file, os.path.join(dst_root_dir, os.path.basename(image_file)))  # copy \n",
    "        copy_nums = copy_nums + 1\n",
    "\n",
    "    print('total copy nums => ', copy_nums)"
   ]
  },
  {
   "cell_type": "code",
   "execution_count": 11,
   "id": "d9fa5c10-318f-4dfc-97e8-940f2f87da89",
   "metadata": {},
   "outputs": [],
   "source": [
    "IMG_WIDTH = 224  \n",
    "IMG_HEIGHT = 224  \n",
    "\n",
    "\n",
    "train_dir = os.path.join(root_dir, 'C:/Users/baekj/Downloads/dog_image/train/')\n",
    "validation_dir = os.path.join(root_dir, 'C:/Users/baekj/Downloads/dog_image/train/')\n",
    "test_dir = os.path.join(root_dir, 'C:/Users/baekj/Downloads/dog_image/test/')\n"
   ]
  },
  {
   "cell_type": "code",
   "execution_count": 13,
   "id": "f0a05251-79f3-450c-a2d2-4a8303f2f8a2",
   "metadata": {},
   "outputs": [],
   "source": [
    "from tensorflow.keras.preprocessing.image import ImageDataGenerator\n",
    "\n",
    "# ImageDataGenerator 인스턴스 생성\n",
    "train_datagen = ImageDataGenerator(rescale=1./255, rotation_range=20, width_shift_range=0.2, \n",
    "                                    height_shift_range=0.2, shear_range=0.2, zoom_range=0.2,\n",
    "                                    validation_split=0.15)\n",
    "\n",
    "validation_datagen = ImageDataGenerator(rescale=1./255, validation_split=0.15)\n"
   ]
  },
  {
   "cell_type": "code",
   "execution_count": 21,
   "id": "676afd3f-bfcb-449b-9611-dc871e17330d",
   "metadata": {},
   "outputs": [
    {
     "name": "stdout",
     "output_type": "stream",
     "text": [
      "Found 834 images belonging to 4 classes.\n",
      "Found 145 images belonging to 4 classes.\n"
     ]
    }
   ],
   "source": [
    "train_generator = train_datagen.flow_from_directory(train_dir, batch_size=16, color_mode='rgb', \n",
    "                                                class_mode='sparse', subset = 'training',\n",
    "                                                target_size=(IMG_WIDTH,IMG_HEIGHT))\n",
    "\n",
    "validation_generator = validation_datagen.flow_from_directory(validation_dir, batch_size=16, color_mode='rgb', \n",
    "                                                          class_mode='sparse', subset = 'validation',\n",
    "                                                          target_size=(IMG_WIDTH,IMG_HEIGHT))"
   ]
  },
  {
   "cell_type": "code",
   "execution_count": 15,
   "id": "aaab2460-6d52-4c9a-9836-05f229b9b164",
   "metadata": {},
   "outputs": [
    {
     "name": "stdout",
     "output_type": "stream",
     "text": [
      "{'chihuahua': 0, 'jindo_dog': 1, 'shepherd': 2, 'yorkshire_terrier': 3}\n"
     ]
    }
   ],
   "source": [
    "print(train_generator.class_indices)"
   ]
  },
  {
   "cell_type": "code",
   "execution_count": 16,
   "id": "d4606415-9475-4b58-b585-bfd00fc4ad08",
   "metadata": {},
   "outputs": [],
   "source": [
    "import tensorflow as tf \n",
    "from tensorflow.keras.applications import MobileNet\n",
    "from tensorflow.keras.models import Model\n",
    "from tensorflow.keras.layers import GlobalAveragePooling2D, Dense, Flatten, Dropout\n",
    "from tensorflow.keras.models import Sequential\n",
    "import scipy"
   ]
  },
  {
   "cell_type": "code",
   "execution_count": 17,
   "id": "159f23c9-ce64-4700-91f0-68174d43dec3",
   "metadata": {},
   "outputs": [],
   "source": [
    "base_model = MobileNet(weights='imagenet', include_top=False, input_shape=(IMG_WIDTH,IMG_HEIGHT,3))"
   ]
  },
  {
   "cell_type": "code",
   "execution_count": 18,
   "id": "b619f032-c145-4bd2-aaa4-4e3dcdccd422",
   "metadata": {},
   "outputs": [],
   "source": [
    "model = Sequential()\n",
    "\n",
    "model.add(base_model)\n",
    "\n",
    "model.add(Flatten())\n",
    "\n",
    "model.add(Dense(32, activation='relu'))\n",
    "model.add(Dropout(0.25))                  \n",
    "model.add(Dense(4, activation='softmax'))"
   ]
  },
  {
   "cell_type": "code",
   "execution_count": 19,
   "id": "d9e9a6b5-7dfc-4a15-a8a4-c80e23fdb874",
   "metadata": {},
   "outputs": [
    {
     "name": "stdout",
     "output_type": "stream",
     "text": [
      "Model: \"sequential\"\n",
      "_________________________________________________________________\n",
      " Layer (type)                Output Shape              Param #   \n",
      "=================================================================\n",
      " mobilenet_1.00_224 (Functi  (None, 7, 7, 1024)        3228864   \n",
      " onal)                                                           \n",
      "                                                                 \n",
      " flatten (Flatten)           (None, 50176)             0         \n",
      "                                                                 \n",
      " dense (Dense)               (None, 32)                1605664   \n",
      "                                                                 \n",
      " dropout (Dropout)           (None, 32)                0         \n",
      "                                                                 \n",
      " dense_1 (Dense)             (None, 4)                 132       \n",
      "                                                                 \n",
      "=================================================================\n",
      "Total params: 4834660 (18.44 MB)\n",
      "Trainable params: 4812772 (18.36 MB)\n",
      "Non-trainable params: 21888 (85.50 KB)\n",
      "_________________________________________________________________\n"
     ]
    }
   ],
   "source": [
    "model.compile(loss='sparse_categorical_crossentropy',\n",
    "              optimizer=tf.keras.optimizers.Adam(2e-5), metrics=['accuracy'])\n",
    "\n",
    "model.summary()"
   ]
  },
  {
   "cell_type": "code",
   "execution_count": 23,
   "id": "6fbb3bb1-fd8d-428d-9d21-488ca40bb09a",
   "metadata": {},
   "outputs": [
    {
     "name": "stdout",
     "output_type": "stream",
     "text": [
      "Epoch 1/5\n",
      "53/53 [==============================] - 169s 3s/step - loss: 0.8603 - accuracy: 0.1799 - val_loss: 0.3839 - val_accuracy: 0.2483\n",
      "Epoch 2/5\n",
      "53/53 [==============================] - 187s 4s/step - loss: 0.6310 - accuracy: 0.1787 - val_loss: 0.2734 - val_accuracy: 0.2414\n",
      "Epoch 3/5\n",
      "53/53 [==============================] - 162s 3s/step - loss: 0.5345 - accuracy: 0.1547 - val_loss: 0.2355 - val_accuracy: 0.2552\n",
      "Epoch 4/5\n",
      "53/53 [==============================] - 170s 3s/step - loss: 0.4403 - accuracy: 0.1811 - val_loss: 0.1653 - val_accuracy: 0.2345\n",
      "Epoch 5/5\n",
      "53/53 [==============================] - 150s 3s/step - loss: 0.3820 - accuracy: 0.1439 - val_loss: 0.1669 - val_accuracy: 0.2276\n"
     ]
    }
   ],
   "source": [
    "import scipy  # 올바른 대소문자로 임포트\n",
    "\n",
    "from tensorflow.keras.callbacks import EarlyStopping\n",
    "\n",
    "earlystopping = EarlyStopping(monitor='val_loss', patience=5)                     \n",
    "\n",
    "hist = model.fit(train_generator, validation_data=validation_generator,\n",
    "                 epochs=5, callbacks=[earlystopping])"
   ]
  },
  {
   "cell_type": "code",
   "execution_count": null,
   "id": "ea1eaca7-d29d-473f-a7a0-453d695fc986",
   "metadata": {},
   "outputs": [],
   "source": []
  }
 ],
 "metadata": {
  "kernelspec": {
   "display_name": "Python 3 (ipykernel)",
   "language": "python",
   "name": "python3"
  },
  "language_info": {
   "codemirror_mode": {
    "name": "ipython",
    "version": 3
   },
   "file_extension": ".py",
   "mimetype": "text/x-python",
   "name": "python",
   "nbconvert_exporter": "python",
   "pygments_lexer": "ipython3",
   "version": "3.11.4"
  }
 },
 "nbformat": 4,
 "nbformat_minor": 5
}
