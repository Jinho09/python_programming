{
 "cells": [
  {
   "cell_type": "code",
   "execution_count": 1,
   "id": "76ffd823",
   "metadata": {},
   "outputs": [],
   "source": [
    "result = 0\n"
   ]
  },
  {
   "cell_type": "code",
   "execution_count": 2,
   "id": "8e72377f",
   "metadata": {},
   "outputs": [],
   "source": [
    "def adder(num):\n",
    "    global result\n",
    "    result += num\n",
    "    return result"
   ]
  },
  {
   "cell_type": "code",
   "execution_count": 3,
   "id": "5da4a381",
   "metadata": {},
   "outputs": [
    {
     "data": {
      "text/plain": [
       "3"
      ]
     },
     "execution_count": 3,
     "metadata": {},
     "output_type": "execute_result"
    }
   ],
   "source": [
    "adder (3)"
   ]
  },
  {
   "cell_type": "code",
   "execution_count": 4,
   "id": "65042224",
   "metadata": {},
   "outputs": [
    {
     "data": {
      "text/plain": [
       "7"
      ]
     },
     "execution_count": 4,
     "metadata": {},
     "output_type": "execute_result"
    }
   ],
   "source": [
    "adder (4)\n"
   ]
  },
  {
   "cell_type": "code",
   "execution_count": 5,
   "id": "c9edb122",
   "metadata": {},
   "outputs": [],
   "source": [
    "result1 = 0\n",
    "result2 = 0\n"
   ]
  },
  {
   "cell_type": "code",
   "execution_count": 10,
   "id": "16c07d09",
   "metadata": {},
   "outputs": [],
   "source": [
    "def adder1(num):\n",
    "    global result1\n",
    "    result1 += num\n",
    "    return result1"
   ]
  },
  {
   "cell_type": "code",
   "execution_count": 11,
   "id": "6b571fe4",
   "metadata": {},
   "outputs": [],
   "source": [
    "def adder2(num):\n",
    "    global result2\n",
    "    result2 += num\n",
    "    return result2"
   ]
  },
  {
   "cell_type": "code",
   "execution_count": 12,
   "id": "8d03cf56",
   "metadata": {},
   "outputs": [
    {
     "data": {
      "text/plain": [
       "3"
      ]
     },
     "execution_count": 12,
     "metadata": {},
     "output_type": "execute_result"
    }
   ],
   "source": [
    "adder1 (3)"
   ]
  },
  {
   "cell_type": "code",
   "execution_count": 13,
   "id": "6c73ecde",
   "metadata": {},
   "outputs": [
    {
     "data": {
      "text/plain": [
       "7"
      ]
     },
     "execution_count": 13,
     "metadata": {},
     "output_type": "execute_result"
    }
   ],
   "source": [
    "adder1 (4)"
   ]
  },
  {
   "cell_type": "code",
   "execution_count": 20,
   "id": "24da8af1",
   "metadata": {},
   "outputs": [],
   "source": [
    "class calculator:\n",
    "    def __init__(self):\n",
    "        self.result=0\n",
    "    \n",
    "    def adder (self, num):\n",
    "        self.result += num\n",
    "        return self.result"
   ]
  },
  {
   "cell_type": "code",
   "execution_count": 21,
   "id": "c6e79f56",
   "metadata": {},
   "outputs": [],
   "source": [
    "cal1=calculator()"
   ]
  },
  {
   "cell_type": "code",
   "execution_count": 23,
   "id": "c107f36f",
   "metadata": {},
   "outputs": [
    {
     "data": {
      "text/plain": [
       "3"
      ]
     },
     "execution_count": 23,
     "metadata": {},
     "output_type": "execute_result"
    }
   ],
   "source": [
    "cal1.adder(3)"
   ]
  },
  {
   "cell_type": "code",
   "execution_count": 24,
   "id": "298f80e7",
   "metadata": {},
   "outputs": [
    {
     "data": {
      "text/plain": [
       "7"
      ]
     },
     "execution_count": 24,
     "metadata": {},
     "output_type": "execute_result"
    }
   ],
   "source": [
    "cal1.adder(4)"
   ]
  },
  {
   "cell_type": "code",
   "execution_count": 25,
   "id": "1941901e",
   "metadata": {},
   "outputs": [],
   "source": [
    "cal2=calculator()"
   ]
  },
  {
   "cell_type": "code",
   "execution_count": 26,
   "id": "148afa39",
   "metadata": {},
   "outputs": [
    {
     "data": {
      "text/plain": [
       "110"
      ]
     },
     "execution_count": 26,
     "metadata": {},
     "output_type": "execute_result"
    }
   ],
   "source": [
    "cal2.adder(110)"
   ]
  },
  {
   "cell_type": "code",
   "execution_count": 27,
   "id": "7f63cdd2",
   "metadata": {},
   "outputs": [],
   "source": [
    "class Service:\n",
    "    secret = \"지구는 40006년에 홍수발생\"\n",
    "    "
   ]
  },
  {
   "cell_type": "code",
   "execution_count": 29,
   "id": "9c46cc76",
   "metadata": {},
   "outputs": [],
   "source": [
    "s = Service()"
   ]
  },
  {
   "cell_type": "code",
   "execution_count": 32,
   "id": "3625a91d",
   "metadata": {},
   "outputs": [
    {
     "data": {
      "text/plain": [
       "'지구는 40006년에 홍수발생'"
      ]
     },
     "execution_count": 32,
     "metadata": {},
     "output_type": "execute_result"
    }
   ],
   "source": [
    "s.secret"
   ]
  },
  {
   "cell_type": "code",
   "execution_count": 33,
   "id": "d9f63c33",
   "metadata": {},
   "outputs": [],
   "source": [
    "class Service:\n",
    "    secret = \"지구 대박\"\n",
    "    def sum (self,a,b):\n",
    "        result = a+b\n",
    "        print (\"%s + %s = %s이다.\" %(a,b,result)) #a,b,result 가 각 % 앞의 수가 됨 "
   ]
  },
  {
   "cell_type": "code",
   "execution_count": 34,
   "id": "510ed754",
   "metadata": {},
   "outputs": [],
   "source": [
    "an = Service()"
   ]
  },
  {
   "cell_type": "code",
   "execution_count": 36,
   "id": "69b48b5a",
   "metadata": {},
   "outputs": [
    {
     "name": "stdout",
     "output_type": "stream",
     "text": [
      "1 + 1 = 2이다.\n"
     ]
    }
   ],
   "source": [
    "an.sum(1,1)"
   ]
  },
  {
   "cell_type": "code",
   "execution_count": 70,
   "id": "c1dee9a3",
   "metadata": {},
   "outputs": [],
   "source": [
    "class Service:\n",
    "    secret = \"지구 대박\"\n",
    "    def setname (self, name):\n",
    "        self.name = name\n",
    "        \n",
    "    def sum (self ,a, b):\n",
    "        result = a+b\n",
    "        print (\"%s님,%s + %s = %s이다.\" %(self.name, a,b, result)) "
   ]
  },
  {
   "cell_type": "code",
   "execution_count": 71,
   "id": "43f329ad",
   "metadata": {},
   "outputs": [],
   "source": [
    "an = Service ()"
   ]
  },
  {
   "cell_type": "code",
   "execution_count": 72,
   "id": "286cd656",
   "metadata": {},
   "outputs": [],
   "source": [
    "an.setname (\"박달도사\")"
   ]
  },
  {
   "cell_type": "code",
   "execution_count": 74,
   "id": "a00e3397",
   "metadata": {},
   "outputs": [
    {
     "name": "stdout",
     "output_type": "stream",
     "text": [
      "박달도사님,1 + 1 = 2이다.\n"
     ]
    }
   ],
   "source": [
    "an.sum(1,1)"
   ]
  },
  {
   "cell_type": "code",
   "execution_count": 75,
   "id": "571346d6",
   "metadata": {},
   "outputs": [],
   "source": [
    "class FourCal:\n",
    "    pass"
   ]
  },
  {
   "cell_type": "code",
   "execution_count": 76,
   "id": "3db53617",
   "metadata": {},
   "outputs": [],
   "source": [
    "a=FourCal()"
   ]
  },
  {
   "cell_type": "code",
   "execution_count": 77,
   "id": "71d0267e",
   "metadata": {},
   "outputs": [
    {
     "data": {
      "text/plain": [
       "__main__.FourCal"
      ]
     },
     "execution_count": 77,
     "metadata": {},
     "output_type": "execute_result"
    }
   ],
   "source": [
    "type(a)"
   ]
  },
  {
   "cell_type": "code",
   "execution_count": 78,
   "id": "e0d80588",
   "metadata": {},
   "outputs": [
    {
     "name": "stdout",
     "output_type": "stream",
     "text": [
      "<class '__main__.FourCal'>\n"
     ]
    }
   ],
   "source": [
    "print(type(a))"
   ]
  },
  {
   "cell_type": "code",
   "execution_count": 80,
   "id": "28444a51",
   "metadata": {},
   "outputs": [],
   "source": [
    "class FourCal:\n",
    "    def setdata (self, first, second):\n",
    "        self.first = first\n",
    "        self.second = second"
   ]
  },
  {
   "cell_type": "code",
   "execution_count": 81,
   "id": "46f1d12a",
   "metadata": {},
   "outputs": [],
   "source": [
    "a=FourCal()"
   ]
  },
  {
   "cell_type": "code",
   "execution_count": 82,
   "id": "b30649ed",
   "metadata": {},
   "outputs": [
    {
     "name": "stdout",
     "output_type": "stream",
     "text": [
      "<class '__main__.FourCal'>\n"
     ]
    }
   ],
   "source": [
    "print (type(a))"
   ]
  },
  {
   "cell_type": "markdown",
   "id": "b73f6c0f",
   "metadata": {},
   "source": [
    "a.setdata (4,2)"
   ]
  },
  {
   "cell_type": "code",
   "execution_count": 84,
   "id": "43bd0364",
   "metadata": {},
   "outputs": [],
   "source": [
    "a.setdata (4,2)"
   ]
  },
  {
   "cell_type": "code",
   "execution_count": 85,
   "id": "7832f7c2",
   "metadata": {},
   "outputs": [
    {
     "data": {
      "text/plain": [
       "4"
      ]
     },
     "execution_count": 85,
     "metadata": {},
     "output_type": "execute_result"
    }
   ],
   "source": [
    "a.first"
   ]
  },
  {
   "cell_type": "code",
   "execution_count": 86,
   "id": "fe7b76fa",
   "metadata": {},
   "outputs": [],
   "source": [
    "class FourCal:\n",
    "    def setdata (self, first, second):\n",
    "        self.first = first\n",
    "        self.second = second\n",
    "    def sum(self):\n",
    "        result = self.first + self.second\n",
    "        return result"
   ]
  },
  {
   "cell_type": "code",
   "execution_count": 89,
   "id": "5c2ea1b1",
   "metadata": {},
   "outputs": [],
   "source": [
    "a = FourCal()"
   ]
  },
  {
   "cell_type": "code",
   "execution_count": 90,
   "id": "3aadbdbd",
   "metadata": {},
   "outputs": [],
   "source": [
    "a.setdata (4,2)"
   ]
  },
  {
   "cell_type": "code",
   "execution_count": 91,
   "id": "4c8ba38c",
   "metadata": {},
   "outputs": [
    {
     "name": "stdout",
     "output_type": "stream",
     "text": [
      "6\n"
     ]
    }
   ],
   "source": [
    "print(a.sum())"
   ]
  },
  {
   "cell_type": "code",
   "execution_count": null,
   "id": "d753b926",
   "metadata": {},
   "outputs": [],
   "source": []
  }
 ],
 "metadata": {
  "kernelspec": {
   "display_name": "Python 3 (ipykernel)",
   "language": "python",
   "name": "python3"
  },
  "language_info": {
   "codemirror_mode": {
    "name": "ipython",
    "version": 3
   },
   "file_extension": ".py",
   "mimetype": "text/x-python",
   "name": "python",
   "nbconvert_exporter": "python",
   "pygments_lexer": "ipython3",
   "version": "3.11.2"
  }
 },
 "nbformat": 4,
 "nbformat_minor": 5
}
