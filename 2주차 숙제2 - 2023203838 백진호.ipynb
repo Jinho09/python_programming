{
 "cells": [
  {
   "cell_type": "code",
   "execution_count": 4,
   "id": "9b4bd308",
   "metadata": {},
   "outputs": [
    {
     "data": {
      "text/plain": [
       "'1'"
      ]
     },
     "execution_count": 4,
     "metadata": {},
     "output_type": "execute_result"
    }
   ],
   "source": [
    "#Exersise Strings\n",
    "\n",
    "A = \"1\"\n",
    "A"
   ]
  },
  {
   "cell_type": "code",
   "execution_count": 5,
   "id": "1088ad23",
   "metadata": {},
   "outputs": [
    {
     "data": {
      "text/plain": [
       "'2'"
      ]
     },
     "execution_count": 5,
     "metadata": {},
     "output_type": "execute_result"
    }
   ],
   "source": [
    "B = \"2\"\n",
    "B"
   ]
  },
  {
   "cell_type": "code",
   "execution_count": 6,
   "id": "eb527f2b",
   "metadata": {},
   "outputs": [
    {
     "data": {
      "text/plain": [
       "'12'"
      ]
     },
     "execution_count": 6,
     "metadata": {},
     "output_type": "execute_result"
    }
   ],
   "source": [
    "C = A + B\n",
    "C"
   ]
  },
  {
   "cell_type": "code",
   "execution_count": 7,
   "id": "42093e74",
   "metadata": {},
   "outputs": [
    {
     "name": "stdout",
     "output_type": "stream",
     "text": [
      "ABC\n"
     ]
    }
   ],
   "source": [
    "D = \"ABCDEFG\"\n",
    "print(D[:3]) "
   ]
  },
  {
   "cell_type": "code",
   "execution_count": 8,
   "id": "f5443e35",
   "metadata": {},
   "outputs": [
    {
     "name": "stdout",
     "output_type": "stream",
     "text": [
      "correct\n"
     ]
    }
   ],
   "source": [
    "E = 'clocrkr1e1c1t'\n",
    "print(E[::2])"
   ]
  },
  {
   "cell_type": "code",
   "execution_count": 9,
   "id": "96a43859",
   "metadata": {},
   "outputs": [
    {
     "name": "stdout",
     "output_type": "stream",
     "text": [
      "\\\n"
     ]
    }
   ],
   "source": [
    "print(\"\\\\\")"
   ]
  },
  {
   "cell_type": "code",
   "execution_count": 11,
   "id": "f14328cc",
   "metadata": {},
   "outputs": [
    {
     "data": {
      "text/plain": [
       "'YOU ARE WRONG'"
      ]
     },
     "execution_count": 11,
     "metadata": {},
     "output_type": "execute_result"
    }
   ],
   "source": [
    "F = \"You are wrong\"\n",
    "F1 = F.upper()\n",
    "F1"
   ]
  },
  {
   "cell_type": "code",
   "execution_count": 17,
   "id": "fbec560c",
   "metadata": {},
   "outputs": [
    {
     "data": {
      "text/plain": [
       "95"
      ]
     },
     "execution_count": 17,
     "metadata": {},
     "output_type": "execute_result"
    }
   ],
   "source": [
    "G = \"Mary had a little lamb Little lamb, little lamb Mary had a little lamb \\\n",
    "Its fleece was white as snow And everywhere that Mary went Mary went, Mary went \\\n",
    "Everywhere that Mary went The lamb was sure to go\"\n",
    "G.find(\"snow\")"
   ]
  },
  {
   "cell_type": "code",
   "execution_count": 19,
   "id": "15708dc2",
   "metadata": {},
   "outputs": [
    {
     "data": {
      "text/plain": [
       "'Bob had a little lamb Little lamb, little lamb Bob had a little lamb Its fleece was white as snow And everywhere that Bob went Bob went, Bob went Everywhere that Bob went The lamb was sure to go'"
      ]
     },
     "execution_count": 19,
     "metadata": {},
     "output_type": "execute_result"
    }
   ],
   "source": [
    "G1 = G.replace(\"Mary\", \"Bob\")\n",
    "G1"
   ]
  },
  {
   "cell_type": "code",
   "execution_count": 1,
   "id": "601deebc",
   "metadata": {},
   "outputs": [
    {
     "data": {
      "text/plain": [
       "'Michael Jackson'"
      ]
     },
     "execution_count": 1,
     "metadata": {},
     "output_type": "execute_result"
    }
   ],
   "source": [
    "\n",
    "# 아래는 수업시간에 다룬 내용들\n",
    "\"Michael Jackson\""
   ]
  },
  {
   "cell_type": "code",
   "execution_count": 2,
   "id": "cf74c4d2",
   "metadata": {},
   "outputs": [
    {
     "data": {
      "text/plain": [
       "'Michael Jackson'"
      ]
     },
     "execution_count": 2,
     "metadata": {},
     "output_type": "execute_result"
    }
   ],
   "source": [
    "'Michael Jackson'"
   ]
  },
  {
   "cell_type": "code",
   "execution_count": 3,
   "id": "b91fefab",
   "metadata": {},
   "outputs": [
    {
     "data": {
      "text/plain": [
       "'1 2 3 4 5 6 '"
      ]
     },
     "execution_count": 3,
     "metadata": {},
     "output_type": "execute_result"
    }
   ],
   "source": [
    "'1 2 3 4 5 6 '"
   ]
  },
  {
   "cell_type": "code",
   "execution_count": 4,
   "id": "2bfe722b",
   "metadata": {},
   "outputs": [
    {
     "data": {
      "text/plain": [
       "'123456'"
      ]
     },
     "execution_count": 4,
     "metadata": {},
     "output_type": "execute_result"
    }
   ],
   "source": [
    "'123456'"
   ]
  },
  {
   "cell_type": "code",
   "execution_count": 5,
   "id": "dad84c5b",
   "metadata": {},
   "outputs": [
    {
     "data": {
      "text/plain": [
       "'@#2_#]&*^%$'"
      ]
     },
     "execution_count": 5,
     "metadata": {},
     "output_type": "execute_result"
    }
   ],
   "source": [
    "'@#2_#]&*^%$' "
   ]
  },
  {
   "cell_type": "code",
   "execution_count": 6,
   "id": "46bdd1b3",
   "metadata": {},
   "outputs": [
    {
     "name": "stdout",
     "output_type": "stream",
     "text": [
      "hello!\n"
     ]
    }
   ],
   "source": [
    "print(\"hello!\")"
   ]
  },
  {
   "cell_type": "code",
   "execution_count": 7,
   "id": "44dba8b1",
   "metadata": {},
   "outputs": [
    {
     "data": {
      "text/plain": [
       "'Michael Jackson'"
      ]
     },
     "execution_count": 7,
     "metadata": {},
     "output_type": "execute_result"
    }
   ],
   "source": [
    "Name = \"Michael Jackson\"\n",
    "Name"
   ]
  },
  {
   "cell_type": "code",
   "execution_count": 8,
   "id": "f1fc5c46",
   "metadata": {},
   "outputs": [
    {
     "data": {
      "text/plain": [
       "'Michael Jackson 35'"
      ]
     },
     "execution_count": 8,
     "metadata": {},
     "output_type": "execute_result"
    }
   ],
   "source": [
    "Age = \" 35\" \n",
    "\n",
    "Name + Age"
   ]
  },
  {
   "cell_type": "code",
   "execution_count": 9,
   "id": "daf2a7fd",
   "metadata": {},
   "outputs": [
    {
     "name": "stdout",
     "output_type": "stream",
     "text": [
      "i\n"
     ]
    }
   ],
   "source": [
    "print(Name[1])"
   ]
  },
  {
   "cell_type": "code",
   "execution_count": 10,
   "id": "ef5e246a",
   "metadata": {},
   "outputs": [
    {
     "name": "stdout",
     "output_type": "stream",
     "text": [
      "l\n"
     ]
    }
   ],
   "source": [
    "print(Name[6])"
   ]
  },
  {
   "cell_type": "code",
   "execution_count": 11,
   "id": "64ca2c41",
   "metadata": {},
   "outputs": [
    {
     "name": "stdout",
     "output_type": "stream",
     "text": [
      "o\n"
     ]
    }
   ],
   "source": [
    "print(Name[13])"
   ]
  },
  {
   "cell_type": "code",
   "execution_count": 12,
   "id": "e678f06f",
   "metadata": {},
   "outputs": [
    {
     "name": "stdout",
     "output_type": "stream",
     "text": [
      "M\n",
      "M\n"
     ]
    }
   ],
   "source": [
    "print(Name[-15])\n",
    "print(Name[0])"
   ]
  },
  {
   "cell_type": "code",
   "execution_count": 13,
   "id": "06aaf8d9",
   "metadata": {},
   "outputs": [
    {
     "name": "stdout",
     "output_type": "stream",
     "text": [
      "M\n"
     ]
    }
   ],
   "source": [
    "print(Name[-15])"
   ]
  },
  {
   "cell_type": "code",
   "execution_count": 14,
   "id": "e4142907",
   "metadata": {},
   "outputs": [
    {
     "data": {
      "text/plain": [
       "15"
      ]
     },
     "execution_count": 14,
     "metadata": {},
     "output_type": "execute_result"
    }
   ],
   "source": [
    "len(\"Michael Jackson\")"
   ]
  },
  {
   "cell_type": "code",
   "execution_count": 15,
   "id": "005d1fd8",
   "metadata": {},
   "outputs": [
    {
     "data": {
      "text/plain": [
       "'Mich'"
      ]
     },
     "execution_count": 15,
     "metadata": {},
     "output_type": "execute_result"
    }
   ],
   "source": [
    "Name[0:4]"
   ]
  },
  {
   "cell_type": "code",
   "execution_count": 16,
   "id": "ea8d56f1",
   "metadata": {},
   "outputs": [
    {
     "data": {
      "text/plain": [
       "'ack'"
      ]
     },
     "execution_count": 16,
     "metadata": {},
     "output_type": "execute_result"
    }
   ],
   "source": [
    "Name[9:12]"
   ]
  },
  {
   "cell_type": "code",
   "execution_count": 17,
   "id": "4dc16e58",
   "metadata": {},
   "outputs": [
    {
     "data": {
      "text/plain": [
       "'McalJcsn'"
      ]
     },
     "execution_count": 17,
     "metadata": {},
     "output_type": "execute_result"
    }
   ],
   "source": [
    "Name[::2]"
   ]
  },
  {
   "cell_type": "code",
   "execution_count": 18,
   "id": "f6fd82b6",
   "metadata": {},
   "outputs": [
    {
     "data": {
      "text/plain": [
       "'Mcal'"
      ]
     },
     "execution_count": 18,
     "metadata": {},
     "output_type": "execute_result"
    }
   ],
   "source": [
    "Name[0:7:2]"
   ]
  },
  {
   "cell_type": "code",
   "execution_count": 19,
   "id": "5bfb9df1",
   "metadata": {},
   "outputs": [
    {
     "data": {
      "text/plain": [
       "'Michael Jackson is the best'"
      ]
     },
     "execution_count": 19,
     "metadata": {},
     "output_type": "execute_result"
    }
   ],
   "source": [
    "Statement = Name + \" is the best\"\n",
    "Statement"
   ]
  },
  {
   "cell_type": "code",
   "execution_count": 20,
   "id": "c3ecc553",
   "metadata": {},
   "outputs": [
    {
     "data": {
      "text/plain": [
       "'Michael Jackson Michael Jackson Michael Jackson '"
      ]
     },
     "execution_count": 20,
     "metadata": {},
     "output_type": "execute_result"
    }
   ],
   "source": [
    "3 * \"Michael Jackson \""
   ]
  },
  {
   "cell_type": "code",
   "execution_count": 21,
   "id": "020a71fb",
   "metadata": {},
   "outputs": [
    {
     "data": {
      "text/plain": [
       "'Michael Jackson is the best'"
      ]
     },
     "execution_count": 21,
     "metadata": {},
     "output_type": "execute_result"
    }
   ],
   "source": [
    "Name = \"Michael Jackson\"\n",
    "Name = Name + \" is the best\"\n",
    "Name"
   ]
  },
  {
   "cell_type": "code",
   "execution_count": 22,
   "id": "d2f1709d",
   "metadata": {},
   "outputs": [
    {
     "name": "stdout",
     "output_type": "stream",
     "text": [
      " Michael Jackson \n",
      " is the best\n"
     ]
    }
   ],
   "source": [
    "print(\" Michael Jackson \\n is the best\" )"
   ]
  },
  {
   "cell_type": "code",
   "execution_count": 23,
   "id": "603d8038",
   "metadata": {},
   "outputs": [
    {
     "name": "stdout",
     "output_type": "stream",
     "text": [
      " Michael Jackson \t is the best \n",
      "\n"
     ]
    }
   ],
   "source": [
    "\n",
    "print(\" Michael Jackson \\t is the best \\n\" )"
   ]
  },
  {
   "cell_type": "code",
   "execution_count": 24,
   "id": "c196ad23",
   "metadata": {},
   "outputs": [
    {
     "name": "stdout",
     "output_type": "stream",
     "text": [
      " Michael Jackson \\ is the best\n"
     ]
    }
   ],
   "source": [
    "print(\" Michael Jackson \\ is the best\" )"
   ]
  },
  {
   "cell_type": "code",
   "execution_count": 25,
   "id": "1f5aba5a",
   "metadata": {},
   "outputs": [
    {
     "name": "stdout",
     "output_type": "stream",
     "text": [
      "before upper: Thriller is the sixth studio album\n",
      "After upper: THRILLER IS THE SIXTH STUDIO ALBUM\n"
     ]
    }
   ],
   "source": [
    "A = \"Thriller is the sixth studio album\"\n",
    "print(\"before upper:\", A)\n",
    "B = A.upper()\n",
    "print(\"After upper:\", B)"
   ]
  },
  {
   "cell_type": "code",
   "execution_count": 26,
   "id": "eccd9877",
   "metadata": {},
   "outputs": [
    {
     "data": {
      "text/plain": [
       "'Michael Jackson is the best'"
      ]
     },
     "execution_count": 26,
     "metadata": {},
     "output_type": "execute_result"
    }
   ],
   "source": [
    "A = \"Michael Jackson is the best\"\n",
    "B = A.replace('Michael', 'Janet')\n",
    "C = B.replace('Janet', 'Blake')  \n",
    "A"
   ]
  },
  {
   "cell_type": "code",
   "execution_count": 27,
   "id": "e4f622a7",
   "metadata": {},
   "outputs": [
    {
     "data": {
      "text/plain": [
       "5"
      ]
     },
     "execution_count": 27,
     "metadata": {},
     "output_type": "execute_result"
    }
   ],
   "source": [
    "Name = \"Michael Jackson\"\n",
    "Name.find('el')"
   ]
  },
  {
   "cell_type": "code",
   "execution_count": 28,
   "id": "93b47590",
   "metadata": {},
   "outputs": [
    {
     "data": {
      "text/plain": [
       "-1"
      ]
     },
     "execution_count": 28,
     "metadata": {},
     "output_type": "execute_result"
    }
   ],
   "source": [
    "Name.find('sn')"
   ]
  },
  {
   "cell_type": "code",
   "execution_count": 29,
   "id": "c1780ca1",
   "metadata": {},
   "outputs": [
    {
     "data": {
      "text/plain": [
       "-1"
      ]
     },
     "execution_count": 29,
     "metadata": {},
     "output_type": "execute_result"
    }
   ],
   "source": [
    "Name.find('Jasdfasdasdf')"
   ]
  },
  {
   "cell_type": "code",
   "execution_count": null,
   "id": "1e8d5103",
   "metadata": {},
   "outputs": [],
   "source": []
  }
 ],
 "metadata": {
  "kernelspec": {
   "display_name": "Python 3 (ipykernel)",
   "language": "python",
   "name": "python3"
  },
  "language_info": {
   "codemirror_mode": {
    "name": "ipython",
    "version": 3
   },
   "file_extension": ".py",
   "mimetype": "text/x-python",
   "name": "python",
   "nbconvert_exporter": "python",
   "pygments_lexer": "ipython3",
   "version": "3.11.2"
  }
 },
 "nbformat": 4,
 "nbformat_minor": 5
}
