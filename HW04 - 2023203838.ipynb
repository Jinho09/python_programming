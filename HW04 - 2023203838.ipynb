{
 "cells": [
  {
   "cell_type": "code",
   "execution_count": 31,
   "id": "eff1b9f5",
   "metadata": {},
   "outputs": [
    {
     "name": "stdout",
     "output_type": "stream",
     "text": [
      "This album is Amazing!\n"
     ]
    }
   ],
   "source": [
    "\n",
    "# Quize 1\n",
    "\n",
    "rate = 8.5\n",
    "if rate > 8:\n",
    "    print (\"This album is Amazing!\")\n",
    "    \n"
   ]
  },
  {
   "cell_type": "code",
   "execution_count": 34,
   "id": "700a29f6",
   "metadata": {},
   "outputs": [
    {
     "name": "stdout",
     "output_type": "stream",
     "text": [
      "this album is amazing\n"
     ]
    }
   ],
   "source": [
    "rate = 8.5\n",
    "if rate > 8:\n",
    "    print (\"this album is amazing\")\n",
    "else:\n",
    "    print (\"this album is ok\")\n",
    "\n"
   ]
  },
  {
   "cell_type": "code",
   "execution_count": 38,
   "id": "465b0c29",
   "metadata": {},
   "outputs": [
    {
     "name": "stdout",
     "output_type": "stream",
     "text": [
      "the album came out\n"
     ]
    }
   ],
   "source": [
    "album = 1979\n",
    "\n",
    "if album < 1980 or album == 1991 or album_year == 1993:\n",
    "    print (\"the album came out\")"
   ]
  },
  {
   "cell_type": "code",
   "execution_count": 42,
   "id": "0835eefe",
   "metadata": {},
   "outputs": [
    {
     "data": {
      "text/plain": [
       "False"
      ]
     },
     "execution_count": 42,
     "metadata": {},
     "output_type": "execute_result"
    }
   ],
   "source": [
    "a=5\n",
    "a==6"
   ]
  },
  {
   "cell_type": "code",
   "execution_count": 2,
   "id": "19e62685",
   "metadata": {},
   "outputs": [
    {
     "data": {
      "text/plain": [
       "False"
      ]
     },
     "execution_count": 2,
     "metadata": {},
     "output_type": "execute_result"
    }
   ],
   "source": [
    "i=6\n",
    "i>7"
   ]
  },
  {
   "cell_type": "code",
   "execution_count": 7,
   "id": "c9757477",
   "metadata": {},
   "outputs": [
    {
     "name": "stdout",
     "output_type": "stream",
     "text": [
      "you can enter\n",
      "Everything\n"
     ]
    }
   ],
   "source": [
    "age=19\n",
    "if age > 18:\n",
    "    print (\"you can enter\")\n",
    "else:\n",
    "    print (\"prohibit\")\n",
    "\n",
    "print (\"Everything\")"
   ]
  },
  {
   "cell_type": "code",
   "execution_count": 8,
   "id": "2a8c2427",
   "metadata": {},
   "outputs": [
    {
     "name": "stdout",
     "output_type": "stream",
     "text": [
      "you can enter\n"
     ]
    }
   ],
   "source": [
    "age=19\n",
    "if age > 18:\n",
    "    print (\"you can enter\")\n",
    "else:\n",
    "    print (\"prohibit\")\n",
    "    print (\"Everything\")"
   ]
  },
  {
   "cell_type": "code",
   "execution_count": 11,
   "id": "169edd31",
   "metadata": {},
   "outputs": [
    {
     "name": "stdout",
     "output_type": "stream",
     "text": [
      "go see pink\n"
     ]
    }
   ],
   "source": [
    "age=18\n",
    "if age > 18:\n",
    "    print (\"you can enter\")\n",
    "elif age == 18:\n",
    "    print (\"go see pink\")\n",
    "elif age == 0:\n",
    "    print (\"Kids\")\n",
    "else:\n",
    "    print (\"prohibit\")\n"
   ]
  },
  {
   "cell_type": "code",
   "execution_count": 12,
   "id": "209b91d1",
   "metadata": {},
   "outputs": [
    {
     "name": "stdout",
     "output_type": "stream",
     "text": [
      "Kids\n"
     ]
    }
   ],
   "source": [
    "age=0\n",
    "if age > 18:\n",
    "    print (\"you can enter\")\n",
    "elif age == 18:\n",
    "    print (\"go see pink\")\n",
    "elif age == 0:\n",
    "    print (\"Kids\")\n",
    "else:\n",
    "    print (\"prohibit\")\n"
   ]
  },
  {
   "cell_type": "code",
   "execution_count": 18,
   "id": "840577ff",
   "metadata": {},
   "outputs": [
    {
     "name": "stdout",
     "output_type": "stream",
     "text": [
      "KK\n"
     ]
    }
   ],
   "source": [
    "album_year = 1991\n",
    "if album_year > 1990 :\n",
    "    print (\"KK\")"
   ]
  },
  {
   "cell_type": "code",
   "execution_count": 20,
   "id": "a03cff69",
   "metadata": {},
   "outputs": [
    {
     "name": "stdout",
     "output_type": "stream",
     "text": [
      "KK\n"
     ]
    }
   ],
   "source": [
    "album_year = 1991\n",
    "if (album_year > 1990) or (album < 1990):\n",
    "    print (\"KK\")"
   ]
  },
  {
   "cell_type": "code",
   "execution_count": 28,
   "id": "f88b8e8b",
   "metadata": {},
   "outputs": [
    {
     "name": "stdout",
     "output_type": "stream",
     "text": [
      "YY\n"
     ]
    }
   ],
   "source": [
    "album_year = 1980\n",
    "if (album_year > 1990) and (album_year < 1995):\n",
    "    print (\"KK\")\n",
    "else:\n",
    "    print (\"YY\")"
   ]
  },
  {
   "cell_type": "code",
   "execution_count": null,
   "id": "067606be",
   "metadata": {},
   "outputs": [],
   "source": []
  }
 ],
 "metadata": {
  "kernelspec": {
   "display_name": "Python 3 (ipykernel)",
   "language": "python",
   "name": "python3"
  },
  "language_info": {
   "codemirror_mode": {
    "name": "ipython",
    "version": 3
   },
   "file_extension": ".py",
   "mimetype": "text/x-python",
   "name": "python",
   "nbconvert_exporter": "python",
   "pygments_lexer": "ipython3",
   "version": "3.11.2"
  }
 },
 "nbformat": 4,
 "nbformat_minor": 5
}
