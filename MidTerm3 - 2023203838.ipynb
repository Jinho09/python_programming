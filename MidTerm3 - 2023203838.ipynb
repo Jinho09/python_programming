{
 "cells": [
  {
   "cell_type": "code",
   "execution_count": 35,
   "id": "e349fa86",
   "metadata": {},
   "outputs": [
    {
     "name": "stdout",
     "output_type": "stream",
     "text": [
      "10명의 학생 이름과 점수를 입력하세요. 입력 예시: 백진호 100\n",
      "\n",
      "백진호 100\n",
      "김덕기 90\n",
      "윤태웅 50\n",
      "윤상운 60\n",
      "이현정 75\n",
      "박성준 95\n",
      "김민석 80\n",
      "고승현 40\n",
      "배원호 30\n",
      "이지은 55\n",
      "\n",
      "이름, 점수를 등수 순서대로 출력합니다.\n",
      "\n",
      " 1등: 백진호, 100점\n",
      " 2등: 박성준, 95점\n",
      " 3등: 김덕기, 90점\n",
      " 4등: 김민석, 80점\n",
      " 5등: 이현정, 75점\n",
      " 6등: 윤상운, 60점\n",
      " 7등: 이지은, 55점\n",
      " 8등: 윤태웅, 50점\n",
      " 9등: 고승현, 40점\n",
      " 10등: 배원호, 30점"
     ]
    }
   ],
   "source": [
    "print (\"10명의 학생 이름과 점수를 입력하세요. 입력 예시: 백진호 100\\n\")\n",
    "n=10\n",
    "\n",
    "arr=[]\n",
    "for i in range(n) :\n",
    "    data = input().split()\n",
    "    arr.append((data[0], int(data[1])))\n",
    "\n",
    "arr = sorted(arr, key=lambda student:student[1],reverse=True)\n",
    "\n",
    "print (\"\\n이름, 점수를 등수 순서대로 출력합니다.\")\n",
    "\n",
    "for i, arr in enumerate(arr) :\n",
    "    rank = i + 1\n",
    "    print(\"\\n\", f\"{rank}등: {arr[0]}, {arr[1]}점\",end='')"
   ]
  },
  {
   "cell_type": "code",
   "execution_count": null,
   "id": "ee47a852",
   "metadata": {},
   "outputs": [],
   "source": []
  }
 ],
 "metadata": {
  "kernelspec": {
   "display_name": "Python 3 (ipykernel)",
   "language": "python",
   "name": "python3"
  },
  "language_info": {
   "codemirror_mode": {
    "name": "ipython",
    "version": 3
   },
   "file_extension": ".py",
   "mimetype": "text/x-python",
   "name": "python",
   "nbconvert_exporter": "python",
   "pygments_lexer": "ipython3",
   "version": "3.11.2"
  }
 },
 "nbformat": 4,
 "nbformat_minor": 5
}
