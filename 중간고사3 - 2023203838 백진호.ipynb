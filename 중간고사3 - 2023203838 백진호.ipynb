{
 "cells": [
  {
   "cell_type": "code",
   "execution_count": 24,
   "id": "e349fa86",
   "metadata": {},
   "outputs": [
    {
     "name": "stdout",
     "output_type": "stream",
     "text": [
      "10명의 학생 이름과 점수를 입력하세요. 입력 예시: 백진호 100\n",
      "\n",
      "백진호 100\n",
      "이지은 70\n",
      "윤상운 80\n",
      "김덕기 95\n",
      "윤태웅 60\n",
      "이현정 95\n",
      "조수아 80\n",
      "배원호 50\n",
      "고승현 88\n",
      "박성준 99\n",
      "\n",
      "이름, 점수를 등수 순서대로 출력합니다.\n",
      "\n",
      " 백진호 100\n",
      " 박성준 99\n",
      " 김덕기 95\n",
      " 이현정 95\n",
      " 고승현 88\n",
      " 윤상운 80\n",
      " 조수아 80\n",
      " 이지은 70\n",
      " 윤태웅 60\n",
      " 배원호 50"
     ]
    }
   ],
   "source": [
    "#3. 10명의 학생 이름과 점수를 입력받아 등수를 계산하고, 출력 시에는 이름, 점수를 등수 순서대로 출력하는 프로그램을 작성하시오.\n",
    "\n",
    "print (\"10명의 학생 이름과 점수를 입력하세요. 입력 예시: 백진호 100\\n\")\n",
    "\n",
    "n=10\n",
    "\n",
    "arr=[]\n",
    "for i in range(n) :\n",
    "    data = input().split()\n",
    "    arr.append((data[0], int(data[1])))\n",
    "\n",
    "\n",
    "arr = sorted(arr, key=lambda student:student[1],reverse=True)\n",
    "\n",
    "print (\"\\n이름, 점수를 등수 순서대로 출력합니다.\")\n",
    "\n",
    "for i in arr :\n",
    "    print(\"\\n\",i[0],i[1],end='')"
   ]
  },
  {
   "cell_type": "code",
   "execution_count": null,
   "id": "911a0202",
   "metadata": {},
   "outputs": [],
   "source": []
  },
  {
   "cell_type": "code",
   "execution_count": null,
   "id": "dd526449",
   "metadata": {},
   "outputs": [],
   "source": []
  }
 ],
 "metadata": {
  "kernelspec": {
   "display_name": "Python 3 (ipykernel)",
   "language": "python",
   "name": "python3"
  },
  "language_info": {
   "codemirror_mode": {
    "name": "ipython",
    "version": 3
   },
   "file_extension": ".py",
   "mimetype": "text/x-python",
   "name": "python",
   "nbconvert_exporter": "python",
   "pygments_lexer": "ipython3",
   "version": "3.11.2"
  }
 },
 "nbformat": 4,
 "nbformat_minor": 5
}
