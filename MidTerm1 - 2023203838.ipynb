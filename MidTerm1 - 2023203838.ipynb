{
 "cells": [
  {
   "cell_type": "code",
   "execution_count": 4,
   "id": "37df8a14",
   "metadata": {},
   "outputs": [
    {
     "name": "stdout",
     "output_type": "stream",
     "text": [
      "이름을 입력하세요: 백진호\n",
      "키(cm)를 입력하세요: 181\n",
      "몸무게(kg)을 입력하세요: 75\n",
      "백진호님의 BMI는 22.9 입니다.\n",
      "이름을 입력하세요: JH Baek\n",
      "키(cm)를 입력하세요: -1000\n"
     ]
    }
   ],
   "source": [
    "#1. 키와 몸무게를 입력하면 BMI를 계산하는 프로그램을 작성하시오 (반복문을 사용해서 계속 몸무게/키를 입력받음. 종료는 -1000을 입력하면 종료하도록 함)\n",
    "\n",
    "while 1 :\n",
    "\n",
    " name=input(\"이름을 입력하세요: \")\n",
    "\n",
    " height_CM=int(input(\"키(cm)를 입력하세요: \"))\n",
    " height_M=height_CM/100\n",
    " \n",
    " if height_CM == -1000 : \n",
    "     break\n",
    "\n",
    " weight=int(input(\"몸무게(kg)을 입력하세요: \"))\n",
    " if weight == -1000 : \n",
    "     break\n",
    "\n",
    " BMI=weight/(height_M**2)\n",
    "\n",
    " print(\"%s님의 BMI는 %.1lf 입니다.\" % (name, BMI))"
   ]
  },
  {
   "cell_type": "code",
   "execution_count": null,
   "id": "b6df9f9b",
   "metadata": {},
   "outputs": [],
   "source": []
  },
  {
   "cell_type": "code",
   "execution_count": null,
   "id": "3082360a",
   "metadata": {},
   "outputs": [],
   "source": []
  }
 ],
 "metadata": {
  "kernelspec": {
   "display_name": "Python 3 (ipykernel)",
   "language": "python",
   "name": "python3"
  },
  "language_info": {
   "codemirror_mode": {
    "name": "ipython",
    "version": 3
   },
   "file_extension": ".py",
   "mimetype": "text/x-python",
   "name": "python",
   "nbconvert_exporter": "python",
   "pygments_lexer": "ipython3",
   "version": "3.11.2"
  }
 },
 "nbformat": 4,
 "nbformat_minor": 5
}
