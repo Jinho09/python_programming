{
 "cells": [
  {
   "cell_type": "code",
   "execution_count": 1,
   "id": "e421d7f5",
   "metadata": {},
   "outputs": [
    {
     "name": "stdout",
     "output_type": "stream",
     "text": [
      "1\n",
      "2\n",
      "3\n"
     ]
    }
   ],
   "source": [
    "for i in range (1,4):\n",
    "    print(i)\n",
    "    "
   ]
  },
  {
   "cell_type": "code",
   "execution_count": 2,
   "id": "bb674305",
   "metadata": {},
   "outputs": [
    {
     "name": "stdout",
     "output_type": "stream",
     "text": [
      "1\n",
      "2\n",
      "3\n"
     ]
    }
   ],
   "source": [
    "for i in [1,2,3]:\n",
    "    print(i)\n",
    "    "
   ]
  },
  {
   "cell_type": "code",
   "execution_count": 4,
   "id": "6af71825",
   "metadata": {},
   "outputs": [
    {
     "name": "stdout",
     "output_type": "stream",
     "text": [
      "2\n",
      "3\n",
      "4\n"
     ]
    }
   ],
   "source": [
    "for i in [1,2,3]:\n",
    "    print(i+1)"
   ]
  },
  {
   "cell_type": "code",
   "execution_count": 8,
   "id": "00b2d60c",
   "metadata": {},
   "outputs": [],
   "source": [
    "a=[]\n",
    "for i in [1,2,3]:\n",
    "    a.append(i)"
   ]
  },
  {
   "cell_type": "code",
   "execution_count": 9,
   "id": "d43d9c34",
   "metadata": {},
   "outputs": [
    {
     "data": {
      "text/plain": [
       "[1, 2, 3]"
      ]
     },
     "execution_count": 9,
     "metadata": {},
     "output_type": "execute_result"
    }
   ],
   "source": [
    "a"
   ]
  },
  {
   "cell_type": "code",
   "execution_count": 10,
   "id": "443737f1",
   "metadata": {},
   "outputs": [],
   "source": [
    "for i  in [1,2,3]:\n",
    "    a.append(i+1)"
   ]
  },
  {
   "cell_type": "code",
   "execution_count": 11,
   "id": "e797bf40",
   "metadata": {},
   "outputs": [
    {
     "data": {
      "text/plain": [
       "[1, 2, 3, 2, 3, 4]"
      ]
     },
     "execution_count": 11,
     "metadata": {},
     "output_type": "execute_result"
    }
   ],
   "source": [
    "a"
   ]
  },
  {
   "cell_type": "code",
   "execution_count": 12,
   "id": "660be74c",
   "metadata": {},
   "outputs": [
    {
     "data": {
      "text/plain": [
       "[2, 3, 4]"
      ]
     },
     "execution_count": 12,
     "metadata": {},
     "output_type": "execute_result"
    }
   ],
   "source": [
    "[i+1 for i in [1,2,3]]\n"
   ]
  },
  {
   "cell_type": "code",
   "execution_count": 13,
   "id": "46672f10",
   "metadata": {},
   "outputs": [],
   "source": [
    "b=[i+1 for i in [1,2,3]]"
   ]
  },
  {
   "cell_type": "code",
   "execution_count": 14,
   "id": "22445739",
   "metadata": {},
   "outputs": [
    {
     "data": {
      "text/plain": [
       "[2, 3, 4]"
      ]
     },
     "execution_count": 14,
     "metadata": {},
     "output_type": "execute_result"
    }
   ],
   "source": [
    "b"
   ]
  },
  {
   "cell_type": "code",
   "execution_count": 15,
   "id": "7fab45c6",
   "metadata": {},
   "outputs": [],
   "source": [
    "def calcul(i):\n",
    "    c=i*2*3/+i\n",
    "    return c"
   ]
  },
  {
   "cell_type": "code",
   "execution_count": 17,
   "id": "80031e03",
   "metadata": {},
   "outputs": [],
   "source": [
    "b=[calcul (i) for i in [1,2,3]]"
   ]
  },
  {
   "cell_type": "code",
   "execution_count": 18,
   "id": "fd11aa31",
   "metadata": {},
   "outputs": [
    {
     "data": {
      "text/plain": [
       "[6.0, 6.0, 6.0]"
      ]
     },
     "execution_count": 18,
     "metadata": {},
     "output_type": "execute_result"
    }
   ],
   "source": [
    "b"
   ]
  },
  {
   "cell_type": "code",
   "execution_count": 19,
   "id": "e18bf782",
   "metadata": {},
   "outputs": [
    {
     "data": {
      "text/plain": [
       "[3]"
      ]
     },
     "execution_count": 19,
     "metadata": {},
     "output_type": "execute_result"
    }
   ],
   "source": [
    "[i+1 for i in [1,2,3,] if i%2==0]"
   ]
  },
  {
   "cell_type": "code",
   "execution_count": 20,
   "id": "8b53dd05",
   "metadata": {},
   "outputs": [],
   "source": [
    "a=[]\n",
    "for i in [1,2,3]:\n",
    "    if i%2==0:   #2로 나눠서 나머지가 0이되는 경우. 짝수에 해당\n",
    "        a.append (i+1)\n",
    "        "
   ]
  },
  {
   "cell_type": "code",
   "execution_count": 21,
   "id": "e6c254e9",
   "metadata": {},
   "outputs": [
    {
     "data": {
      "text/plain": [
       "[3]"
      ]
     },
     "execution_count": 21,
     "metadata": {},
     "output_type": "execute_result"
    }
   ],
   "source": [
    "a"
   ]
  },
  {
   "cell_type": "code",
   "execution_count": 22,
   "id": "92546313",
   "metadata": {},
   "outputs": [],
   "source": [
    "number_list= []\n",
    "number_list.append(1) \n",
    "number_list.append(2) \n",
    "number_list.append(3) \n",
    "number_list.append(4) \n",
    "number_list.append(5) "
   ]
  },
  {
   "cell_type": "code",
   "execution_count": 23,
   "id": "6a73a49d",
   "metadata": {},
   "outputs": [
    {
     "data": {
      "text/plain": [
       "[1, 2, 3, 4, 5]"
      ]
     },
     "execution_count": 23,
     "metadata": {},
     "output_type": "execute_result"
    }
   ],
   "source": [
    "number_list"
   ]
  },
  {
   "cell_type": "code",
   "execution_count": 25,
   "id": "1b2f5062",
   "metadata": {},
   "outputs": [
    {
     "data": {
      "text/plain": [
       "['i', 'love', 'python', 'soooooo', 'much!!!']"
      ]
     },
     "execution_count": 25,
     "metadata": {},
     "output_type": "execute_result"
    }
   ],
   "source": [
    "sentence = ['I', 'Love', 'Python', 'Soooooo', 'MUCH!!!']\n",
    "[word.lower() for word in sentence]\n"
   ]
  },
  {
   "cell_type": "code",
   "execution_count": 27,
   "id": "12bf243f",
   "metadata": {},
   "outputs": [
    {
     "data": {
      "text/plain": [
       "['Soooooo', 'MUCH!!!']"
      ]
     },
     "execution_count": 27,
     "metadata": {},
     "output_type": "execute_result"
    }
   ],
   "source": [
    "[word for word in sentence if len(word) > 6] # 6 이상인 것들 .\n"
   ]
  },
  {
   "cell_type": "code",
   "execution_count": 28,
   "id": "22f04f6a",
   "metadata": {},
   "outputs": [
    {
     "data": {
      "text/plain": [
       "[(0, 0, 0),\n",
       " (1, 1, 1),\n",
       " (2, 4, 8),\n",
       " (3, 9, 27),\n",
       " (4, 16, 64),\n",
       " (5, 25, 125),\n",
       " (6, 36, 216),\n",
       " (7, 49, 343),\n",
       " (8, 64, 512),\n",
       " (9, 81, 729)]"
      ]
     },
     "execution_count": 28,
     "metadata": {},
     "output_type": "execute_result"
    }
   ],
   "source": [
    "[(x, x ** 2, x ** 3) for x in range(10)]"
   ]
  },
  {
   "cell_type": "code",
   "execution_count": 29,
   "id": "bab9d153",
   "metadata": {},
   "outputs": [
    {
     "data": {
      "text/plain": [
       "[(0, -2, 3),\n",
       " (1, -1, 4),\n",
       " (2, 0, 5),\n",
       " (3, 1, 6),\n",
       " (4, 2, 7),\n",
       " (5, 3, 8),\n",
       " (6, 4, 9),\n",
       " (7, 5, 10),\n",
       " (8, 6, 11),\n",
       " (9, 7, 12)]"
      ]
     },
     "execution_count": 29,
     "metadata": {},
     "output_type": "execute_result"
    }
   ],
   "source": [
    "[(x, x -2, x +3) for x in range(10)]"
   ]
  },
  {
   "cell_type": "code",
   "execution_count": 33,
   "id": "6b2c205e",
   "metadata": {},
   "outputs": [
    {
     "name": "stdout",
     "output_type": "stream",
     "text": [
      "1 1\n",
      "1 2\n",
      "2 1\n",
      "2 2\n",
      "3 1\n",
      "3 2\n"
     ]
    }
   ],
   "source": [
    "rows = range(1,4)\n",
    "cols = range(1,3)\n",
    "for row in rows:\n",
    "    for col in cols:\n",
    "        print(row, col)"
   ]
  },
  {
   "cell_type": "code",
   "execution_count": 35,
   "id": "d11dbd32",
   "metadata": {},
   "outputs": [
    {
     "name": "stdout",
     "output_type": "stream",
     "text": [
      "(1, 1)\n",
      "(1, 2)\n",
      "(2, 1)\n",
      "(2, 2)\n",
      "(3, 1)\n",
      "(3, 2)\n"
     ]
    }
   ],
   "source": [
    "rows = range(1,4)\n",
    "cols = range(1,3)\n",
    "cells = [(row, col) for row in rows for col in cols]\n",
    "for cell in cells:\n",
    "    print(cell)"
   ]
  },
  {
   "cell_type": "code",
   "execution_count": 36,
   "id": "fdb08437",
   "metadata": {},
   "outputs": [
    {
     "data": {
      "text/plain": [
       "[(1, 0),\n",
       " (2, 0),\n",
       " (2, 1),\n",
       " (3, 0),\n",
       " (3, 1),\n",
       " (3, 2),\n",
       " (4, 0),\n",
       " (4, 1),\n",
       " (4, 2),\n",
       " (4, 3)]"
      ]
     },
     "execution_count": 36,
     "metadata": {},
     "output_type": "execute_result"
    }
   ],
   "source": [
    "[(i,j) for i in range(5) for j in range(i)]"
   ]
  },
  {
   "cell_type": "code",
   "execution_count": 42,
   "id": "e4419141",
   "metadata": {},
   "outputs": [
    {
     "data": {
      "text/plain": [
       "{'l': 1, 'e': 2, 't': 2, 'r': 1, 's': 1}"
      ]
     },
     "execution_count": 42,
     "metadata": {},
     "output_type": "execute_result"
    }
   ],
   "source": [
    "word = 'letters'\n",
    "letter_counts = {letter: word.count(letter) for letter in word}\n",
    "letter_counts"
   ]
  },
  {
   "cell_type": "code",
   "execution_count": 38,
   "id": "bc9c3d78",
   "metadata": {},
   "outputs": [
    {
     "data": {
      "text/plain": [
       "'LETTERS'"
      ]
     },
     "execution_count": 38,
     "metadata": {},
     "output_type": "execute_result"
    }
   ],
   "source": [
    "word.upper()"
   ]
  },
  {
   "cell_type": "code",
   "execution_count": 39,
   "id": "7f6523b8",
   "metadata": {},
   "outputs": [
    {
     "data": {
      "text/plain": [
       "7"
      ]
     },
     "execution_count": 39,
     "metadata": {},
     "output_type": "execute_result"
    }
   ],
   "source": [
    "len(word)"
   ]
  },
  {
   "cell_type": "code",
   "execution_count": 40,
   "id": "a71494ed",
   "metadata": {},
   "outputs": [
    {
     "data": {
      "text/plain": [
       "2"
      ]
     },
     "execution_count": 40,
     "metadata": {},
     "output_type": "execute_result"
    }
   ],
   "source": [
    "word.count('e')  #letter 안에 e가 들어간 수"
   ]
  },
  {
   "cell_type": "code",
   "execution_count": 44,
   "id": "d0316759",
   "metadata": {},
   "outputs": [
    {
     "data": {
      "text/plain": [
       "{'l': 1, 'r': 1, 's': 1, 'e': 2, 't': 2}"
      ]
     },
     "execution_count": 44,
     "metadata": {},
     "output_type": "execute_result"
    }
   ],
   "source": [
    "word = 'letters'\n",
    "letter_counts = {letter: word.count(letter) for letter in set(word)}\n",
    "letter_counts"
   ]
  },
  {
   "cell_type": "code",
   "execution_count": 45,
   "id": "1022b482",
   "metadata": {},
   "outputs": [
    {
     "data": {
      "text/plain": [
       "{'e', 'l', 'r', 's', 't'}"
      ]
     },
     "execution_count": 45,
     "metadata": {},
     "output_type": "execute_result"
    }
   ],
   "source": [
    "set(word)"
   ]
  },
  {
   "cell_type": "code",
   "execution_count": 46,
   "id": "a4249fd5",
   "metadata": {},
   "outputs": [],
   "source": [
    "a_set = {number for number in range(1,6) if number % 3 == 1}"
   ]
  },
  {
   "cell_type": "code",
   "execution_count": 47,
   "id": "4ef05581",
   "metadata": {},
   "outputs": [
    {
     "data": {
      "text/plain": [
       "{1, 4}"
      ]
     },
     "execution_count": 47,
     "metadata": {},
     "output_type": "execute_result"
    }
   ],
   "source": [
    "a_set"
   ]
  },
  {
   "cell_type": "code",
   "execution_count": 51,
   "id": "8aaed900",
   "metadata": {},
   "outputs": [],
   "source": [
    "def sum(a,b):\n",
    "    return (a+b)"
   ]
  },
  {
   "cell_type": "code",
   "execution_count": 56,
   "id": "3697dca3",
   "metadata": {},
   "outputs": [
    {
     "name": "stdout",
     "output_type": "stream",
     "text": [
      "Monday : drink coffee - eat banana - enjoy tiramisu\n",
      "Tuesday : drink tea - eat orange - enjoy ice cream\n",
      "Wednesday : drink beer - eat peach - enjoy pie\n"
     ]
    }
   ],
   "source": [
    "days = ['Monday', 'Tuesday', 'Wednesday']\n",
    "fruits = ['banana', 'orange', 'peach']\n",
    "drinks = ['coffee', 'tea', 'beer']\n",
    "desserts = ['tiramisu', 'ice cream', 'pie', 'pudding']\n",
    "for day, fruit, drink, dessert in zip(days, fruits, drinks, desserts):\n",
    "    print(day, \": drink\", drink, \"- eat\", fruit, \"- enjoy\", dessert)"
   ]
  },
  {
   "cell_type": "code",
   "execution_count": 58,
   "id": "b5af8129",
   "metadata": {},
   "outputs": [
    {
     "data": {
      "text/plain": [
       "{'Monday': 'Lundi', 'Tuesday': 'Mardi', 'Wednesday': 'Mercredi'}"
      ]
     },
     "execution_count": 58,
     "metadata": {},
     "output_type": "execute_result"
    }
   ],
   "source": [
    "english = 'Monday', 'Tuesday', 'Wednesday'\n",
    "french = 'Lundi', 'Mardi', 'Mercredi'\n",
    "\n",
    "dict( zip(english, french) )\n",
    "# {'Monday': 'Lundi', 'Tuesday': 'Mardi', 'Wednesday': 'Mercredi'}"
   ]
  },
  {
   "cell_type": "code",
   "execution_count": 59,
   "id": "b80afecb",
   "metadata": {},
   "outputs": [
    {
     "data": {
      "text/plain": [
       "[('Monday', 'Lundi'), ('Tuesday', 'Mardi'), ('Wednesday', 'Mercredi')]"
      ]
     },
     "execution_count": 59,
     "metadata": {},
     "output_type": "execute_result"
    }
   ],
   "source": [
    "list( zip(english, french) )\n",
    "# [('Monday', 'Lundi'), ('Tuesday', 'Mardi'), ('Wednesday', 'Mercredi')]"
   ]
  },
  {
   "cell_type": "code",
   "execution_count": 61,
   "id": "70c2960b",
   "metadata": {},
   "outputs": [],
   "source": [
    "def menu(wine, entree, dessert):\n",
    "    return {'wine': wine, 'entree': entree, 'dessert': dessert}"
   ]
  },
  {
   "cell_type": "code",
   "execution_count": 62,
   "id": "aad726b9",
   "metadata": {},
   "outputs": [
    {
     "data": {
      "text/plain": [
       "{'wine': 'chardonnay', 'entree': 'chicken', 'dessert': 'cake'}"
      ]
     },
     "execution_count": 62,
     "metadata": {},
     "output_type": "execute_result"
    }
   ],
   "source": [
    "menu('chardonnay', 'chicken', 'cake')"
   ]
  },
  {
   "cell_type": "code",
   "execution_count": 70,
   "id": "7819b4e7",
   "metadata": {},
   "outputs": [],
   "source": [
    "def echo(anything):\n",
    "    'echo returns its input argument'\n",
    "    return anything"
   ]
  },
  {
   "cell_type": "code",
   "execution_count": 71,
   "id": "06fba0b9",
   "metadata": {},
   "outputs": [
    {
     "name": "stdout",
     "output_type": "stream",
     "text": [
      "Help on function echo in module __main__:\n",
      "\n",
      "echo(anything)\n",
      "    echo returns its input argument\n",
      "\n"
     ]
    }
   ],
   "source": [
    "help (echo)"
   ]
  },
  {
   "cell_type": "code",
   "execution_count": 72,
   "id": "9c3977f6",
   "metadata": {},
   "outputs": [],
   "source": [
    "def print_if_true(thing, check):\n",
    "    \"\"\"\n",
    "    Prints the first argument if a second argument is true.\n",
    "    The operation is:\n",
    "    1. Check whether the *second* argument is true.\n",
    "    2. If it is, print the *first* argument.\n",
    "    \"\"\"\n",
    "    if check:\n",
    "        print(thing)"
   ]
  },
  {
   "cell_type": "code",
   "execution_count": 75,
   "id": "3dc74fe6",
   "metadata": {},
   "outputs": [],
   "source": [
    "print_if_true('ahhahah', False)"
   ]
  },
  {
   "cell_type": "code",
   "execution_count": 77,
   "id": "932e0931",
   "metadata": {},
   "outputs": [
    {
     "name": "stdout",
     "output_type": "stream",
     "text": [
      "ahhahah\n"
     ]
    }
   ],
   "source": [
    "print_if_true('ahhahah', True)"
   ]
  },
  {
   "cell_type": "code",
   "execution_count": 78,
   "id": "95c64d80",
   "metadata": {},
   "outputs": [
    {
     "name": "stdout",
     "output_type": "stream",
     "text": [
      "Help on function print_if_true in module __main__:\n",
      "\n",
      "print_if_true(thing, check)\n",
      "    Prints the first argument if a second argument is true.\n",
      "    The operation is:\n",
      "    1. Check whether the *second* argument is true.\n",
      "    2. If it is, print the *first* argument.\n",
      "\n"
     ]
    }
   ],
   "source": [
    "help (print_if_true)"
   ]
  },
  {
   "cell_type": "code",
   "execution_count": 79,
   "id": "a3a60647",
   "metadata": {},
   "outputs": [],
   "source": [
    "import math"
   ]
  },
  {
   "cell_type": "code",
   "execution_count": 80,
   "id": "7911f434",
   "metadata": {},
   "outputs": [
    {
     "data": {
      "text/plain": [
       "4.0"
      ]
     },
     "execution_count": 80,
     "metadata": {},
     "output_type": "execute_result"
    }
   ],
   "source": [
    "math.sqrt(16)"
   ]
  },
  {
   "cell_type": "code",
   "execution_count": 83,
   "id": "5354987a",
   "metadata": {},
   "outputs": [
    {
     "name": "stdout",
     "output_type": "stream",
     "text": [
      "Requirement already satisfied: scikit-learn in c:\\users\\jhobaek\\appdata\\local\\programs\\python\\python311\\lib\\site-packages (1.2.2)\n",
      "Requirement already satisfied: numpy>=1.17.3 in c:\\users\\jhobaek\\appdata\\local\\programs\\python\\python311\\lib\\site-packages (from scikit-learn) (1.24.3)\n",
      "Requirement already satisfied: scipy>=1.3.2 in c:\\users\\jhobaek\\appdata\\local\\programs\\python\\python311\\lib\\site-packages (from scikit-learn) (1.10.1)\n",
      "Requirement already satisfied: joblib>=1.1.1 in c:\\users\\jhobaek\\appdata\\local\\programs\\python\\python311\\lib\\site-packages (from scikit-learn) (1.2.0)\n",
      "Requirement already satisfied: threadpoolctl>=2.0.0 in c:\\users\\jhobaek\\appdata\\local\\programs\\python\\python311\\lib\\site-packages (from scikit-learn) (3.1.0)\n"
     ]
    },
    {
     "name": "stderr",
     "output_type": "stream",
     "text": [
      "\n",
      "[notice] A new release of pip available: 22.3.1 -> 23.1.2\n",
      "[notice] To update, run: python.exe -m pip install --upgrade pip\n"
     ]
    }
   ],
   "source": [
    "!pip install scikit-learn"
   ]
  },
  {
   "cell_type": "code",
   "execution_count": 84,
   "id": "1e70de33",
   "metadata": {},
   "outputs": [
    {
     "name": "stdout",
     "output_type": "stream",
     "text": [
      "Requirement already satisfied: numpy in c:\\users\\jhobaek\\appdata\\local\\programs\\python\\python311\\lib\\site-packages (1.24.3)\n"
     ]
    },
    {
     "name": "stderr",
     "output_type": "stream",
     "text": [
      "\n",
      "[notice] A new release of pip available: 22.3.1 -> 23.1.2\n",
      "[notice] To update, run: python.exe -m pip install --upgrade pip\n"
     ]
    }
   ],
   "source": [
    "!pip3 install numpy"
   ]
  },
  {
   "cell_type": "code",
   "execution_count": 85,
   "id": "5694a457",
   "metadata": {},
   "outputs": [
    {
     "name": "stdout",
     "output_type": "stream",
     "text": [
      "Collecting pandas\n",
      "  Downloading pandas-2.0.1-cp311-cp311-win_amd64.whl (10.6 MB)\n",
      "     ---------------------------------------- 10.6/10.6 MB 1.2 MB/s eta 0:00:00\n",
      "Requirement already satisfied: python-dateutil>=2.8.2 in c:\\users\\jhobaek\\appdata\\local\\programs\\python\\python311\\lib\\site-packages (from pandas) (2.8.2)\n",
      "Collecting pytz>=2020.1\n",
      "  Downloading pytz-2023.3-py2.py3-none-any.whl (502 kB)\n",
      "     -------------------------------------- 502.3/502.3 kB 3.5 MB/s eta 0:00:00\n",
      "Collecting tzdata>=2022.1\n",
      "  Downloading tzdata-2023.3-py2.py3-none-any.whl (341 kB)\n",
      "     ------------------------------------- 341.8/341.8 kB 10.7 MB/s eta 0:00:00\n",
      "Requirement already satisfied: numpy>=1.21.0 in c:\\users\\jhobaek\\appdata\\local\\programs\\python\\python311\\lib\\site-packages (from pandas) (1.24.3)\n",
      "Requirement already satisfied: six>=1.5 in c:\\users\\jhobaek\\appdata\\local\\programs\\python\\python311\\lib\\site-packages (from python-dateutil>=2.8.2->pandas) (1.16.0)\n",
      "Installing collected packages: pytz, tzdata, pandas\n",
      "Successfully installed pandas-2.0.1 pytz-2023.3 tzdata-2023.3\n"
     ]
    },
    {
     "name": "stderr",
     "output_type": "stream",
     "text": [
      "\n",
      "[notice] A new release of pip available: 22.3.1 -> 23.1.2\n",
      "[notice] To update, run: python.exe -m pip install --upgrade pip\n"
     ]
    }
   ],
   "source": [
    "!pip3 install pandas"
   ]
  },
  {
   "cell_type": "code",
   "execution_count": 86,
   "id": "394b569c",
   "metadata": {},
   "outputs": [
    {
     "name": "stdout",
     "output_type": "stream",
     "text": [
      "Collecting seaborn\n",
      "  Downloading seaborn-0.12.2-py3-none-any.whl (293 kB)\n",
      "     ------------------------------------ 293.3/293.3 kB 489.7 kB/s eta 0:00:00\n",
      "Requirement already satisfied: numpy!=1.24.0,>=1.17 in c:\\users\\jhobaek\\appdata\\local\\programs\\python\\python311\\lib\\site-packages (from seaborn) (1.24.3)\n",
      "Requirement already satisfied: pandas>=0.25 in c:\\users\\jhobaek\\appdata\\local\\programs\\python\\python311\\lib\\site-packages (from seaborn) (2.0.1)\n",
      "Collecting matplotlib!=3.6.1,>=3.1\n",
      "  Downloading matplotlib-3.7.1-cp311-cp311-win_amd64.whl (7.6 MB)\n",
      "     ---------------------------------------- 7.6/7.6 MB 1.6 MB/s eta 0:00:00\n",
      "Collecting contourpy>=1.0.1\n",
      "  Downloading contourpy-1.0.7-cp311-cp311-win_amd64.whl (162 kB)\n",
      "     -------------------------------------- 163.0/163.0 kB 9.5 MB/s eta 0:00:00\n",
      "Collecting cycler>=0.10\n",
      "  Downloading cycler-0.11.0-py3-none-any.whl (6.4 kB)\n",
      "Collecting fonttools>=4.22.0\n",
      "  Downloading fonttools-4.39.3-py3-none-any.whl (1.0 MB)\n",
      "     ---------------------------------------- 1.0/1.0 MB 3.6 MB/s eta 0:00:00\n",
      "Collecting kiwisolver>=1.0.1\n",
      "  Downloading kiwisolver-1.4.4-cp311-cp311-win_amd64.whl (55 kB)\n",
      "     ---------------------------------------- 55.4/55.4 kB 2.8 MB/s eta 0:00:00\n",
      "Requirement already satisfied: packaging>=20.0 in c:\\users\\jhobaek\\appdata\\local\\programs\\python\\python311\\lib\\site-packages (from matplotlib!=3.6.1,>=3.1->seaborn) (23.0)\n",
      "Collecting pillow>=6.2.0\n",
      "  Downloading Pillow-9.5.0-cp311-cp311-win_amd64.whl (2.5 MB)\n",
      "     ---------------------------------------- 2.5/2.5 MB 2.1 MB/s eta 0:00:00\n",
      "Collecting pyparsing>=2.3.1\n",
      "  Downloading pyparsing-3.0.9-py3-none-any.whl (98 kB)\n",
      "     ---------------------------------------- 98.3/98.3 kB 5.5 MB/s eta 0:00:00\n",
      "Requirement already satisfied: python-dateutil>=2.7 in c:\\users\\jhobaek\\appdata\\local\\programs\\python\\python311\\lib\\site-packages (from matplotlib!=3.6.1,>=3.1->seaborn) (2.8.2)\n",
      "Requirement already satisfied: pytz>=2020.1 in c:\\users\\jhobaek\\appdata\\local\\programs\\python\\python311\\lib\\site-packages (from pandas>=0.25->seaborn) (2023.3)\n",
      "Requirement already satisfied: tzdata>=2022.1 in c:\\users\\jhobaek\\appdata\\local\\programs\\python\\python311\\lib\\site-packages (from pandas>=0.25->seaborn) (2023.3)\n",
      "Requirement already satisfied: six>=1.5 in c:\\users\\jhobaek\\appdata\\local\\programs\\python\\python311\\lib\\site-packages (from python-dateutil>=2.7->matplotlib!=3.6.1,>=3.1->seaborn) (1.16.0)\n",
      "Installing collected packages: pyparsing, pillow, kiwisolver, fonttools, cycler, contourpy, matplotlib, seaborn\n",
      "Successfully installed contourpy-1.0.7 cycler-0.11.0 fonttools-4.39.3 kiwisolver-1.4.4 matplotlib-3.7.1 pillow-9.5.0 pyparsing-3.0.9 seaborn-0.12.2\n"
     ]
    },
    {
     "name": "stderr",
     "output_type": "stream",
     "text": [
      "\n",
      "[notice] A new release of pip available: 22.3.1 -> 23.1.2\n",
      "[notice] To update, run: python.exe -m pip install --upgrade pip\n"
     ]
    }
   ],
   "source": [
    "!pip3 install seaborn"
   ]
  },
  {
   "cell_type": "code",
   "execution_count": 87,
   "id": "2d3adf6b",
   "metadata": {},
   "outputs": [
    {
     "name": "stdout",
     "output_type": "stream",
     "text": [
      "Requirement already satisfied: matplotlib in c:\\users\\jhobaek\\appdata\\local\\programs\\python\\python311\\lib\\site-packages (3.7.1)\n",
      "Requirement already satisfied: contourpy>=1.0.1 in c:\\users\\jhobaek\\appdata\\local\\programs\\python\\python311\\lib\\site-packages (from matplotlib) (1.0.7)\n",
      "Requirement already satisfied: cycler>=0.10 in c:\\users\\jhobaek\\appdata\\local\\programs\\python\\python311\\lib\\site-packages (from matplotlib) (0.11.0)\n",
      "Requirement already satisfied: fonttools>=4.22.0 in c:\\users\\jhobaek\\appdata\\local\\programs\\python\\python311\\lib\\site-packages (from matplotlib) (4.39.3)\n",
      "Requirement already satisfied: kiwisolver>=1.0.1 in c:\\users\\jhobaek\\appdata\\local\\programs\\python\\python311\\lib\\site-packages (from matplotlib) (1.4.4)\n",
      "Requirement already satisfied: numpy>=1.20 in c:\\users\\jhobaek\\appdata\\local\\programs\\python\\python311\\lib\\site-packages (from matplotlib) (1.24.3)\n",
      "Requirement already satisfied: packaging>=20.0 in c:\\users\\jhobaek\\appdata\\local\\programs\\python\\python311\\lib\\site-packages (from matplotlib) (23.0)\n",
      "Requirement already satisfied: pillow>=6.2.0 in c:\\users\\jhobaek\\appdata\\local\\programs\\python\\python311\\lib\\site-packages (from matplotlib) (9.5.0)\n",
      "Requirement already satisfied: pyparsing>=2.3.1 in c:\\users\\jhobaek\\appdata\\local\\programs\\python\\python311\\lib\\site-packages (from matplotlib) (3.0.9)\n",
      "Requirement already satisfied: python-dateutil>=2.7 in c:\\users\\jhobaek\\appdata\\local\\programs\\python\\python311\\lib\\site-packages (from matplotlib) (2.8.2)\n",
      "Requirement already satisfied: six>=1.5 in c:\\users\\jhobaek\\appdata\\local\\programs\\python\\python311\\lib\\site-packages (from python-dateutil>=2.7->matplotlib) (1.16.0)\n"
     ]
    },
    {
     "name": "stderr",
     "output_type": "stream",
     "text": [
      "\n",
      "[notice] A new release of pip available: 22.3.1 -> 23.1.2\n",
      "[notice] To update, run: python.exe -m pip install --upgrade pip\n"
     ]
    }
   ],
   "source": [
    "!pip3 install matplotlib"
   ]
  },
  {
   "cell_type": "code",
   "execution_count": 88,
   "id": "0844dfe4",
   "metadata": {},
   "outputs": [
    {
     "name": "stdout",
     "output_type": "stream",
     "text": [
      "Requirement already satisfied: scipy in c:\\users\\jhobaek\\appdata\\local\\programs\\python\\python311\\lib\\site-packages (1.10.1)\n",
      "Requirement already satisfied: numpy<1.27.0,>=1.19.5 in c:\\users\\jhobaek\\appdata\\local\\programs\\python\\python311\\lib\\site-packages (from scipy) (1.24.3)\n"
     ]
    },
    {
     "name": "stderr",
     "output_type": "stream",
     "text": [
      "\n",
      "[notice] A new release of pip available: 22.3.1 -> 23.1.2\n",
      "[notice] To update, run: python.exe -m pip install --upgrade pip\n"
     ]
    }
   ],
   "source": [
    "!pip3 install scipy"
   ]
  },
  {
   "cell_type": "code",
   "execution_count": null,
   "id": "bf2d0c71",
   "metadata": {},
   "outputs": [],
   "source": []
  }
 ],
 "metadata": {
  "kernelspec": {
   "display_name": "Python 3 (ipykernel)",
   "language": "python",
   "name": "python3"
  },
  "language_info": {
   "codemirror_mode": {
    "name": "ipython",
    "version": 3
   },
   "file_extension": ".py",
   "mimetype": "text/x-python",
   "name": "python",
   "nbconvert_exporter": "python",
   "pygments_lexer": "ipython3",
   "version": "3.11.2"
  }
 },
 "nbformat": 4,
 "nbformat_minor": 5
}
