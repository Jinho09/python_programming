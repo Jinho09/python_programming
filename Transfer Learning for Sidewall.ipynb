{
 "cells": [
  {
   "cell_type": "code",
   "execution_count": 55,
   "id": "01894d01-407e-4e06-91ba-15454d83312d",
   "metadata": {},
   "outputs": [],
   "source": [
    "root_dir = 'C:\\\\Users\\\\jhobaek\\\\Downloads\\\\OneDrive-2023-08-26\\\\CYH 13\\\\BottomSideWall'"
   ]
  },
  {
   "cell_type": "code",
   "execution_count": 4,
   "id": "3b87970d-42bd-495c-8041-95cc22bac5ec",
   "metadata": {},
   "outputs": [],
   "source": [
    "import os\n",
    "import shutil\n",
    "\n",
    "if not os.path.exists(os.path.join(root_dir, '\\\\test')):    \n",
    "    os.mkdir(os.path.join(root_dir, '\\\\test'))\n",
    "\n",
    "if not os.path.exists(os.path.join(root_dir, '\\\\test_image_files')):    \n",
    "    os.mkdir(os.path.join(root_dir, '\\\\test_image_files'))"
   ]
  },
  {
   "cell_type": "code",
   "execution_count": 6,
   "id": "0e3de9a2-6ad3-498b-884e-4206c0a7748e",
   "metadata": {},
   "outputs": [
    {
     "name": "stdout",
     "output_type": "stream",
     "text": [
      "total label nums =  2\n",
      "=================================================\n",
      "['FailImage', 'PassImage']\n"
     ]
    }
   ],
   "source": [
    "# 데이터 전체 개수 확인\n",
    "\n",
    "import os\n",
    "import glob\n",
    "\n",
    "label_name_list = os.listdir(os.path.join(root_dir, 'C:\\\\Users\\\\jhobaek\\\\Downloads\\\\OneDrive-2023-08-26\\\\CYH 13\\\\BottomSideWall'))\n",
    "\n",
    "print('total label nums = ', len(label_name_list))\n",
    "print('=================================================')\n",
    "print(label_name_list)"
   ]
  },
  {
   "cell_type": "code",
   "execution_count": 8,
   "id": "a323b52e-376f-402d-b493-7b0581fc3424",
   "metadata": {},
   "outputs": [],
   "source": [
    "import os\n",
    "import glob\n",
    "import shutil\n",
    "\n",
    "ratio = 0.1    # train : test = 90 : 10\n",
    "\n",
    "src_root_dir = os.path.join(root_dir, 'C:/Users/jhobaek/Downloads/OneDrive-2023-08-26/CYH 13/BottomSideWall/train')\n",
    "dst_root_dir = os.path.join(root_dir, 'C:/Users/jhobaek/Downloads/OneDrive-2023-08-26/CYH 13/BottomSideWall/test')\n",
    "\n",
    "label_name_list = os.listdir(src_root_dir) \n",
    "\n",
    "for label_name in label_name_list:   # test 디렉토리에 label 디렉토리 생성\n",
    "    dst_label_name_dir = os.path.join(dst_root_dir, label_name)\n",
    "\n",
    "    if not os.path.exists(dst_label_name_dir):\n",
    "        os.mkdir(dst_label_name_dir)\n",
    "\n",
    "#for label_name in label_name_list:    # 파일 move src dir => dst dir\n",
    "#    train_image_file_list = glob.glob(os.path.join(src_root_dir, label_name, '*'))\n",
    "#    split_num = int(ratio * len(train_image_file_list))\n",
    "#    test_image_file_list = train_image_file_list[0:split_num]\n",
    "\n",
    "#    for image_file in test_image_file_list:\n",
    "#        shutil.move(image_file, os.path.join(dst_root_dir, label_name))    # move"
   ]
  },
  {
   "cell_type": "code",
   "execution_count": 9,
   "id": "2f9c773d-e6ed-4e82-b12d-1b52b6e47ffb",
   "metadata": {},
   "outputs": [
    {
     "name": "stdout",
     "output_type": "stream",
     "text": [
      "2 2\n",
      "train =>  FailImage 487  , test =>  FailImage 54\n",
      "=======================================================\n",
      "train =>  PassImage 324  , test =>  PassImage 36\n",
      "=======================================================\n"
     ]
    }
   ],
   "source": [
    "# train : test 데이터 비율 확인\n",
    "\n",
    "src_root_dir = os.path.join(root_dir, 'C:/Users/jhobaek/Downloads/OneDrive-2023-08-26/CYH 13/BottomSideWall/train')\n",
    "dst_root_dir = os.path.join(root_dir, 'C:/Users/jhobaek/Downloads/OneDrive-2023-08-26/CYH 13/BottomSideWall/test')\n",
    "\n",
    "train_label_name_list = os.listdir(src_root_dir)\n",
    "test_label_name_list = os.listdir(dst_root_dir)\n",
    "\n",
    "train_label_name_list.sort()\n",
    "test_label_name_list.sort()\n",
    "\n",
    "if train_label_name_list != test_label_name_list:\n",
    "    print('fatal error !!!!')\n",
    "else:\n",
    "    print(len(train_label_name_list), len(test_label_name_list))\n",
    "\n",
    "# 데이터 개수 확인\n",
    "\n",
    "for label_name in train_label_name_list:\n",
    "\n",
    "    train_data_nums = len(os.listdir(os.path.join(src_root_dir, label_name)))\n",
    "    test_data_nums = len(os.listdir(os.path.join(dst_root_dir, label_name)))\n",
    "\n",
    "    print('train => ', label_name, train_data_nums, ' , test => ', label_name, test_data_nums)\n",
    "    print('=======================================================')"
   ]
  },
  {
   "cell_type": "code",
   "execution_count": 10,
   "id": "2cc8af02-610e-4bfb-904c-212ca31330b9",
   "metadata": {},
   "outputs": [
    {
     "name": "stdout",
     "output_type": "stream",
     "text": [
      "total [FailImage] image file nums => [487]\n",
      "total copy nums =>  487\n",
      "total [PassImage] image file nums => [324]\n",
      "total copy nums =>  324\n"
     ]
    }
   ],
   "source": [
    "import os\n",
    "import glob\n",
    "import shutil\n",
    "\n",
    "src_root_dir = os.path.join(root_dir, 'C:/Users/jhobaek/Downloads/OneDrive-2023-08-26/CYH 13/BottomSideWall/train')\n",
    "dst_root_dir = os.path.join(root_dir, 'C:/Users/jhobaek/Downloads/OneDrive-2023-08-26/CYH 13/BottomSideWall/test')\n",
    "\n",
    "# 대상 디렉토리가 없다면 생성합니다.\n",
    "if not os.path.exists(dst_root_dir):\n",
    "    os.makedirs(dst_root_dir)\n",
    "\n",
    "label_name_list = os.listdir(src_root_dir)\n",
    "\n",
    "for label_name in label_name_list:  # 파일 copy src dir => dst dir\n",
    "    image_file_list = glob.glob(os.path.join(src_root_dir, label_name, '*'))\n",
    "    print('total [%s] image file nums => [%s]' % (label_name, len(image_file_list)))\n",
    "\n",
    "    copy_nums = 0\n",
    "\n",
    "    for image_file in image_file_list:\n",
    "        shutil.copy(image_file, os.path.join(dst_root_dir, os.path.basename(image_file)))  # copy \n",
    "        copy_nums = copy_nums + 1\n",
    "\n",
    "    print('total copy nums => ', copy_nums)"
   ]
  },
  {
   "cell_type": "code",
   "execution_count": 22,
   "id": "d9fa5c10-318f-4dfc-97e8-940f2f87da89",
   "metadata": {},
   "outputs": [],
   "source": [
    "IMG_WIDTH = 224  \n",
    "IMG_HEIGHT = 224  \n",
    "\n",
    "\n",
    "train_dir = os.path.join(root_dir, 'C:/Users/jhobaek/Downloads/OneDrive-2023-08-26/CYH 13/BottomSideWall/train')\n",
    "validation_dir = os.path.join(root_dir, 'C:/Users/jhobaek/Downloads/OneDrive-2023-08-26/CYH 13/BottomSideWall/train')\n",
    "test_dir = os.path.join(root_dir, 'C:/Users/jhobaek/Downloads/OneDrive-2023-08-26/CYH 13/BottomSideWall/test')\n"
   ]
  },
  {
   "cell_type": "code",
   "execution_count": 23,
   "id": "f0a05251-79f3-450c-a2d2-4a8303f2f8a2",
   "metadata": {},
   "outputs": [],
   "source": [
    "from tensorflow.keras.preprocessing.image import ImageDataGenerator\n",
    "\n",
    "# ImageDataGenerator 인스턴스 생성\n",
    "train_datagen = ImageDataGenerator(rescale=1./255, rotation_range=20, width_shift_range=0.2, \n",
    "                                    height_shift_range=0.2, shear_range=0.2, zoom_range=0.2,\n",
    "                                    validation_split=0.15)\n",
    "\n",
    "validation_datagen = ImageDataGenerator(rescale=1./255, validation_split=0.15)\n"
   ]
  },
  {
   "cell_type": "code",
   "execution_count": 35,
   "id": "676afd3f-bfcb-449b-9611-dc871e17330d",
   "metadata": {},
   "outputs": [
    {
     "name": "stdout",
     "output_type": "stream",
     "text": [
      "Found 690 images belonging to 2 classes.\n",
      "Found 121 images belonging to 2 classes.\n"
     ]
    }
   ],
   "source": [
    "train_generator = train_datagen.flow_from_directory(train_dir, batch_size=16, color_mode='rgb', \n",
    "                                                class_mode='sparse', subset = 'training',\n",
    "                                                target_size=(IMG_WIDTH,IMG_HEIGHT))\n",
    "\n",
    "validation_generator = validation_datagen.flow_from_directory(validation_dir, batch_size=16, color_mode='rgb', \n",
    "                                                          class_mode='sparse', subset = 'validation',\n",
    "                                                          target_size=(IMG_WIDTH,IMG_HEIGHT))"
   ]
  },
  {
   "cell_type": "code",
   "execution_count": 36,
   "id": "aaab2460-6d52-4c9a-9836-05f229b9b164",
   "metadata": {},
   "outputs": [
    {
     "name": "stdout",
     "output_type": "stream",
     "text": [
      "{'FailImage': 0, 'PassImage': 1}\n"
     ]
    }
   ],
   "source": [
    "print(train_generator.class_indices)"
   ]
  },
  {
   "cell_type": "code",
   "execution_count": 34,
   "id": "d4606415-9475-4b58-b585-bfd00fc4ad08",
   "metadata": {},
   "outputs": [],
   "source": [
    "import tensorflow as tf \n",
    "from tensorflow.keras.applications import MobileNet\n",
    "from tensorflow.keras.models import Model\n",
    "from tensorflow.keras.layers import GlobalAveragePooling2D, Dense, Flatten, Dropout\n",
    "from tensorflow.keras.models import Sequential\n",
    "import scipy"
   ]
  },
  {
   "cell_type": "code",
   "execution_count": 37,
   "id": "159f23c9-ce64-4700-91f0-68174d43dec3",
   "metadata": {},
   "outputs": [],
   "source": [
    "base_model = MobileNet(weights='imagenet', include_top=False, input_shape=(IMG_WIDTH,IMG_HEIGHT,3))\n",
    "\n",
    "# MobileNet 모델을 가져옵니다.\n",
    "# weights='imagenet'는 ImageNet 데이터셋으로 사전 학습된 가중치를 사용하겠다는 의미입니다. imagenet을 가중치로 사용 가능한 모델 참조. https://keras.io/ko/applications/\n",
    "# include_top=False는 모델의 최상위 레이어를 포함하지 않겠다는 의미로, 이는 마지막 분류 레이어를 제외하고 가져오라는 뜻입니다.\n",
    "# input_shape=(IMG_WIDTH, IMG_HEIGHT, 3)는 입력 이미지의 크기를 지정합니다. RGB 이미지이므로 채널 수는 3입니다.\n"
   ]
  },
  {
   "cell_type": "code",
   "execution_count": 40,
   "id": "b6805b42",
   "metadata": {},
   "outputs": [],
   "source": [
    "base_model = MobileNet(weights='imagenet', include_top=False, input_shape=(IMG_WIDTH,IMG_HEIGHT,3))"
   ]
  },
  {
   "cell_type": "code",
   "execution_count": 41,
   "id": "b619f032-c145-4bd2-aaa4-4e3dcdccd422",
   "metadata": {},
   "outputs": [],
   "source": [
    "model = Sequential() # 새로운 신경망 모델을 생성합니다. 이 모델은 순차적으로 레이어를 추가하는 방식으로 구성됩니다\n",
    "\n",
    "model.add(base_model) # 기본 모델인 base_model을 모델에 추가합니다. 이는 전환 학습에서 기본 모델의 특징 추출 능력을 활용하려는 의도입니다.\n",
    "\n",
    "model.add(Flatten()) #base_model에서 나온 다차원 텐서를 1차원으로 평탄화합니다. 이는 다음 레이어에서 완전 연결 레이어를 사용하기 위한 준비 단계입니다.\n",
    "model.add(Dense(32, activation='relu')) # 32개의 뉴런을 가진 완전 연결 레이어를 추가합니다. 활성화 함수로는 ReLU(Rectified Linear Unit) 함수를 사용합니다. 이 레이어는 비선형성을 추가하여 모델이 더 복잡한 패턴을 학습할 수 있도록 도와줍니다\n",
    "model.add(Dropout(0.25)) #드롭아웃(Dropout) 레이어를 추가합니다. 드롭아웃은 과적합을 줄이기 위한 방법으로, 학습 시에 일부 뉴런을 임시로 끄는 것을 의미합니다. 여기서는 25%의 확률로 뉴런을 비활성화시킵니다.                 \n",
    "model.add(Dense(4, activation='softmax')) #최종 출력 레이어를 추가합니다. 이 레이어는 클래스 수와 같은 뉴런 수를 가집니다. 활성화 함수로는 소프트맥스(Softmax) 함수를 사용하여 각 클래스에 대한 확률 분포를 얻습니다."
   ]
  },
  {
   "cell_type": "code",
   "execution_count": 42,
   "id": "d9e9a6b5-7dfc-4a15-a8a4-c80e23fdb874",
   "metadata": {},
   "outputs": [
    {
     "name": "stdout",
     "output_type": "stream",
     "text": [
      "Model: \"sequential_2\"\n",
      "_________________________________________________________________\n",
      " Layer (type)                Output Shape              Param #   \n",
      "=================================================================\n",
      " mobilenet_1.00_224 (Functio  (None, 7, 7, 1024)       3228864   \n",
      " nal)                                                            \n",
      "                                                                 \n",
      " flatten_2 (Flatten)         (None, 50176)             0         \n",
      "                                                                 \n",
      " dense_4 (Dense)             (None, 32)                1605664   \n",
      "                                                                 \n",
      " dropout_2 (Dropout)         (None, 32)                0         \n",
      "                                                                 \n",
      " dense_5 (Dense)             (None, 4)                 132       \n",
      "                                                                 \n",
      "=================================================================\n",
      "Total params: 4,834,660\n",
      "Trainable params: 4,812,772\n",
      "Non-trainable params: 21,888\n",
      "_________________________________________________________________\n"
     ]
    }
   ],
   "source": [
    "model.compile(loss='sparse_categorical_crossentropy',\n",
    "              optimizer=tf.keras.optimizers.Adam(2e-5), metrics=['accuracy'])\n",
    "\n",
    "model.summary()"
   ]
  },
  {
   "cell_type": "code",
   "execution_count": 43,
   "id": "6fbb3bb1-fd8d-428d-9d21-488ca40bb09a",
   "metadata": {},
   "outputs": [
    {
     "name": "stdout",
     "output_type": "stream",
     "text": [
      "Epoch 1/20\n",
      "44/44 [==============================] - 102s 2s/step - loss: 1.0374 - accuracy: 0.5739 - val_loss: 0.6698 - val_accuracy: 0.5785\n",
      "Epoch 2/20\n",
      "44/44 [==============================] - 90s 2s/step - loss: 0.7080 - accuracy: 0.6275 - val_loss: 0.5753 - val_accuracy: 0.6942\n",
      "Epoch 3/20\n",
      "44/44 [==============================] - 92s 2s/step - loss: 0.6417 - accuracy: 0.6652 - val_loss: 0.5913 - val_accuracy: 0.7190\n",
      "Epoch 4/20\n",
      "44/44 [==============================] - 93s 2s/step - loss: 0.5915 - accuracy: 0.6957 - val_loss: 0.5462 - val_accuracy: 0.7273\n",
      "Epoch 5/20\n",
      "44/44 [==============================] - 94s 2s/step - loss: 0.5679 - accuracy: 0.6928 - val_loss: 0.5352 - val_accuracy: 0.6694\n",
      "Epoch 6/20\n",
      "44/44 [==============================] - 93s 2s/step - loss: 0.5266 - accuracy: 0.7464 - val_loss: 0.5546 - val_accuracy: 0.6777\n",
      "Epoch 7/20\n",
      "44/44 [==============================] - 95s 2s/step - loss: 0.5252 - accuracy: 0.7377 - val_loss: 0.5433 - val_accuracy: 0.6529\n",
      "Epoch 8/20\n",
      "44/44 [==============================] - 94s 2s/step - loss: 0.4641 - accuracy: 0.7797 - val_loss: 0.5204 - val_accuracy: 0.6942\n",
      "Epoch 9/20\n",
      "44/44 [==============================] - 93s 2s/step - loss: 0.4431 - accuracy: 0.7797 - val_loss: 0.5645 - val_accuracy: 0.6529\n",
      "Epoch 10/20\n",
      "44/44 [==============================] - 112s 3s/step - loss: 0.4347 - accuracy: 0.7899 - val_loss: 0.4919 - val_accuracy: 0.7273\n",
      "Epoch 11/20\n",
      "44/44 [==============================] - 109s 2s/step - loss: 0.4033 - accuracy: 0.8217 - val_loss: 0.4897 - val_accuracy: 0.7107\n",
      "Epoch 12/20\n",
      "44/44 [==============================] - 92s 2s/step - loss: 0.4338 - accuracy: 0.7913 - val_loss: 0.4997 - val_accuracy: 0.7190\n",
      "Epoch 13/20\n",
      "44/44 [==============================] - 93s 2s/step - loss: 0.4201 - accuracy: 0.8188 - val_loss: 0.4795 - val_accuracy: 0.7603\n",
      "Epoch 14/20\n",
      "44/44 [==============================] - 94s 2s/step - loss: 0.4183 - accuracy: 0.8029 - val_loss: 0.4663 - val_accuracy: 0.8099\n",
      "Epoch 15/20\n",
      "44/44 [==============================] - 95s 2s/step - loss: 0.3859 - accuracy: 0.8290 - val_loss: 0.4075 - val_accuracy: 0.8264\n",
      "Epoch 16/20\n",
      "44/44 [==============================] - 95s 2s/step - loss: 0.4074 - accuracy: 0.8246 - val_loss: 0.4032 - val_accuracy: 0.8347\n",
      "Epoch 17/20\n",
      "44/44 [==============================] - 97s 2s/step - loss: 0.3826 - accuracy: 0.8217 - val_loss: 0.3947 - val_accuracy: 0.8512\n",
      "Epoch 18/20\n",
      "44/44 [==============================] - 94s 2s/step - loss: 0.3506 - accuracy: 0.8580 - val_loss: 0.4053 - val_accuracy: 0.8512\n",
      "Epoch 19/20\n",
      "44/44 [==============================] - 95s 2s/step - loss: 0.3488 - accuracy: 0.8362 - val_loss: 0.3443 - val_accuracy: 0.8760\n",
      "Epoch 20/20\n",
      "44/44 [==============================] - 103s 2s/step - loss: 0.3695 - accuracy: 0.8391 - val_loss: 0.3538 - val_accuracy: 0.8678\n"
     ]
    }
   ],
   "source": [
    "import scipy  # 올바른 대소문자로 임포트\n",
    "\n",
    "from tensorflow.keras.callbacks import EarlyStopping\n",
    "\n",
    "earlystopping = EarlyStopping(monitor='val_loss', patience=5)                     \n",
    "\n",
    "hist = model.fit(train_generator, validation_data=validation_generator,\n",
    "                 epochs=20, callbacks=[earlystopping])"
   ]
  },
  {
   "cell_type": "code",
   "execution_count": 44,
   "id": "ea1eaca7-d29d-473f-a7a0-453d695fc986",
   "metadata": {},
   "outputs": [
    {
     "data": {
      "image/png": "[encoded data removed]",
      "text/plain": [
       "<Figure size 640x480 with 1 Axes>"
      ]
     },
     "metadata": {},
     "output_type": "display_data"
    }
   ],
   "source": [
    "import matplotlib.pyplot as plt\n",
    "\n",
    "plt.plot(hist.history['accuracy'], label='train')\n",
    "plt.plot(hist.history['val_accuracy'], label='validation')\n",
    "plt.title('Accuracy Trend')\n",
    "plt.ylabel('accuracy')\n",
    "plt.xlabel('epoch')\n",
    "plt.legend(loc='best')\n",
    "plt.grid()\n",
    "plt.show()"
   ]
  },
  {
   "cell_type": "code",
   "execution_count": 45,
   "id": "c6c269de-3bc3-422e-8803-c2f0970b7750",
   "metadata": {},
   "outputs": [
    {
     "data": {
      "image/png": "[encoded data removed]",
      "text/plain": [
       "<Figure size 640x480 with 1 Axes>"
      ]
     },
     "metadata": {},
     "output_type": "display_data"
    }
   ],
   "source": [
    "plt.plot(hist.history['loss'], label='train')\n",
    "plt.plot(hist.history['val_loss'], label='validation')\n",
    "plt.title('Loss Trend')\n",
    "plt.ylabel('loss')\n",
    "plt.xlabel('epoch')\n",
    "plt.legend(loc='best')\n",
    "plt.grid()\n",
    "plt.show()"
   ]
  },
  {
   "cell_type": "code",
   "execution_count": 46,
   "id": "5ddd96e8-e6b6-418e-9eb5-60bda1b54bab",
   "metadata": {},
   "outputs": [],
   "source": [
    "test_datagen = ImageDataGenerator(rescale=1./255)"
   ]
  },
  {
   "cell_type": "code",
   "execution_count": 47,
   "id": "6745ba09-1c2c-4413-a720-00dc8a8697f6",
   "metadata": {},
   "outputs": [
    {
     "name": "stdout",
     "output_type": "stream",
     "text": [
      "Found 90 images belonging to 2 classes.\n"
     ]
    }
   ],
   "source": [
    "test_generator = test_datagen.flow_from_directory(test_dir, batch_size=32, color_mode='rgb',\n",
    "                                              class_mode='sparse', target_size=(IMG_WIDTH,IMG_HEIGHT))"
   ]
  },
  {
   "cell_type": "code",
   "execution_count": 48,
   "id": "8b49e803-c9a8-4233-99dc-00a83cd05d93",
   "metadata": {},
   "outputs": [
    {
     "name": "stdout",
     "output_type": "stream",
     "text": [
      "3/3 [==============================] - 3s 974ms/step - loss: 0.1952 - accuracy: 0.9556\n"
     ]
    },
    {
     "data": {
      "text/plain": [
       "[0.19517114758491516, 0.9555555582046509]"
      ]
     },
     "execution_count": 48,
     "metadata": {},
     "output_type": "execute_result"
    }
   ],
   "source": [
    "model.evaluate(test_generator)"
   ]
  },
  {
   "cell_type": "code",
   "execution_count": 61,
   "id": "c2723ea6-f40e-444f-85f3-c5a4ac56197b",
   "metadata": {},
   "outputs": [
    {
     "name": "stdout",
     "output_type": "stream",
     "text": [
      "Label for file C:/Users/jhobaek/Downloads/OneDrive-2023-08-26/CYH 13/BottomSideWall/test\\P C248PH4-13D3 X011Y005_5SB.jpg not found in label_dict\n",
      "Label for file C:/Users/jhobaek/Downloads/OneDrive-2023-08-26/CYH 13/BottomSideWall/test\\P C248PH4-12E0 X013Y025_5SB.jpg not found in label_dict\n",
      "Label for file C:/Users/jhobaek/Downloads/OneDrive-2023-08-26/CYH 13/BottomSideWall/test\\P C248PH4-12E0 X015Y021_5SB.jpg not found in label_dict\n",
      "Label for file C:/Users/jhobaek/Downloads/OneDrive-2023-08-26/CYH 13/BottomSideWall/test\\P C248PH4-13D3 X007Y006_5SB.jpg not found in label_dict\n",
      "Label for file C:/Users/jhobaek/Downloads/OneDrive-2023-08-26/CYH 13/BottomSideWall/test\\P C248PH4-13D3 X006Y017_5SB.jpg not found in label_dict\n",
      "Label for file C:/Users/jhobaek/Downloads/OneDrive-2023-08-26/CYH 13/BottomSideWall/test\\P C248PH4-13D3 X005Y028_5SB.jpg not found in label_dict\n",
      "Label for file C:/Users/jhobaek/Downloads/OneDrive-2023-08-26/CYH 13/BottomSideWall/test\\P C248PH4-13D3 X009Y011_5SB.jpg not found in label_dict\n",
      "Label for file C:/Users/jhobaek/Downloads/OneDrive-2023-08-26/CYH 13/BottomSideWall/test\\P C248PH4-13D3 X013Y024_5SB.jpg not found in label_dict\n",
      "Label for file C:/Users/jhobaek/Downloads/OneDrive-2023-08-26/CYH 13/BottomSideWall/test\\P C248PH4-12E0 X008Y008_5SB.jpg not found in label_dict\n",
      "Label for file C:/Users/jhobaek/Downloads/OneDrive-2023-08-26/CYH 13/BottomSideWall/test\\P C248PH4-12E0 X015Y023_5SB.jpg not found in label_dict\n",
      "Label for file C:/Users/jhobaek/Downloads/OneDrive-2023-08-26/CYH 13/BottomSideWall/test\\P C248PH4-13D3 X018Y017_5SB.jpg not found in label_dict\n",
      "Label for file C:/Users/jhobaek/Downloads/OneDrive-2023-08-26/CYH 13/BottomSideWall/test\\P C248PH4-12E0 X012Y003_5SB.jpg not found in label_dict\n",
      "Label for file C:/Users/jhobaek/Downloads/OneDrive-2023-08-26/CYH 13/BottomSideWall/test\\P C248PH4-13D3 X002Y015_5SB.jpg not found in label_dict\n",
      "Label for file C:/Users/jhobaek/Downloads/OneDrive-2023-08-26/CYH 13/BottomSideWall/test\\P C248PH4-13D3 X016Y014_5SB.jpg not found in label_dict\n",
      "Label for file C:/Users/jhobaek/Downloads/OneDrive-2023-08-26/CYH 13/BottomSideWall/test\\P C248PH4-12E0 X011Y040_5SB.jpg not found in label_dict\n",
      "Label for file C:/Users/jhobaek/Downloads/OneDrive-2023-08-26/CYH 13/BottomSideWall/test\\P C248PH4-13D3 X015Y028_5SB.jpg not found in label_dict\n",
      "(16, 224, 224, 3) (0,)\n",
      "[]\n"
     ]
    }
   ],
   "source": [
    "import random\n",
    "import os\n",
    "import numpy as np\n",
    "import cv2\n",
    "import glob\n",
    "\n",
    "root_dir = 'C:/Users/jhobaek/Downloads/OneDrive-2023-08-26/CYH 13/BottomSideWall'\n",
    "\n",
    "label_dict = {'FailImage': 0, 'PassImage': 1}\n",
    "\n",
    "test_image_files_list = glob.glob(root_dir + '/test/*.jpg')\n",
    "\n",
    "random.shuffle(test_image_files_list)\n",
    "\n",
    "test_num = 16\n",
    "test_image_files = test_image_files_list[:test_num]  # 태스트 파일이름은 정답.숫자.jpg \n",
    "\n",
    "label_list = []\n",
    "\n",
    "for i in range(len(test_image_files)):\n",
    "    label = os.path.basename(test_image_files[i]).split('.')[0].strip()\n",
    "    if label in label_dict:\n",
    "        label_list.append(label_dict[label])\n",
    "    else:\n",
    "        print(f\"Label for file {test_image_files[i]} not found in label_dict\")\n",
    "\n",
    "src_img_list = []\n",
    "\n",
    "for i in range(len(test_image_files)):\n",
    "    src_img = cv2.imread(test_image_files[i], cv2.IMREAD_COLOR)\n",
    "    src_img = cv2.resize(src_img, dsize=(IMG_WIDTH, IMG_HEIGHT))\n",
    "    src_img = cv2.cvtColor(src_img, cv2.COLOR_BGR2RGB)\n",
    "    src_img = src_img / 255.0\n",
    "\n",
    "    src_img_list.append(src_img)\n",
    "\n",
    "# 4차원 텐서  변환\n",
    "src_img_array = np.array(src_img_list)\n",
    "label_array = np.array(label_list)\n",
    "\n",
    "print(src_img_array.shape, label_array.shape)\n",
    "print(label_array)"
   ]
  },
  {
   "cell_type": "code",
   "execution_count": 58,
   "id": "34cca8e5-8660-4741-abe5-f2ffa1fda531",
   "metadata": {},
   "outputs": [
    {
     "name": "stdout",
     "output_type": "stream",
     "text": [
      "1/1 [==============================] - 2s 2s/step\n",
      "(16, 4)\n"
     ]
    }
   ],
   "source": [
    "pred = model.predict(src_img_array)\n",
    "print(pred.shape)"
   ]
  },
  {
   "cell_type": "code",
   "execution_count": 59,
   "id": "6ed9a241-4f12-4521-821c-b822722f9e47",
   "metadata": {},
   "outputs": [
    {
     "ename": "IndexError",
     "evalue": "index 0 is out of bounds for axis 0 with size 0",
     "output_type": "error",
     "traceback": [
      "\u001b[1;31m---------------------------------------------------------------------------\u001b[0m",
      "\u001b[1;31mIndexError\u001b[0m                                Traceback (most recent call last)",
      "Cell \u001b[1;32mIn[59], line 12\u001b[0m\n\u001b[0;32m      9\u001b[0m plt\u001b[38;5;241m.\u001b[39msubplot(\u001b[38;5;241m4\u001b[39m,\u001b[38;5;241m4\u001b[39m,pos\u001b[38;5;241m+\u001b[39m\u001b[38;5;241m1\u001b[39m)\n\u001b[0;32m     10\u001b[0m plt\u001b[38;5;241m.\u001b[39maxis(\u001b[38;5;124m'\u001b[39m\u001b[38;5;124moff\u001b[39m\u001b[38;5;124m'\u001b[39m)\n\u001b[1;32m---> 12\u001b[0m label_str \u001b[38;5;241m=\u001b[39m class_names[\u001b[43mlabel_array\u001b[49m\u001b[43m[\u001b[49m\u001b[43mpos\u001b[49m\u001b[43m]\u001b[49m]\n\u001b[0;32m     13\u001b[0m pred_str \u001b[38;5;241m=\u001b[39m class_names[np\u001b[38;5;241m.\u001b[39margmax(pred[pos])]\n\u001b[0;32m     15\u001b[0m plt\u001b[38;5;241m.\u001b[39mtitle(\u001b[38;5;124m'\u001b[39m\u001b[38;5;124mlabel:\u001b[39m\u001b[38;5;124m'\u001b[39m \u001b[38;5;241m+\u001b[39m label_str \u001b[38;5;241m+\u001b[39m \u001b[38;5;124m'\u001b[39m\u001b[38;5;130;01m\\n\u001b[39;00m\u001b[38;5;124mpred:\u001b[39m\u001b[38;5;124m'\u001b[39m \u001b[38;5;241m+\u001b[39m pred_str)\n",
      "\u001b[1;31mIndexError\u001b[0m: index 0 is out of bounds for axis 0 with size 0"
     ]
    },
    {
     "data": {
      "image/png": "[encoded data removed]",
      "text/plain": [
       "<Figure size 1200x1200 with 1 Axes>"
      ]
     },
     "metadata": {},
     "output_type": "display_data"
    }
   ],
   "source": [
    "import matplotlib.pyplot as plt\n",
    "\n",
    "class_names = ['FailImage', 'PassImage']\n",
    "\n",
    "plt.figure(figsize=(12,12))\n",
    "\n",
    "for pos in range(len(pred)):\n",
    "\n",
    "    plt.subplot(4,4,pos+1)\n",
    "    plt.axis('off')\n",
    "\n",
    "    label_str = class_names[label_array[pos]]\n",
    "    pred_str = class_names[np.argmax(pred[pos])]\n",
    "\n",
    "    plt.title('label:' + label_str + '\\npred:' + pred_str)\n",
    "\n",
    "    plt.imshow(src_img_array[pos])\n",
    "\n",
    "plt.tight_layout()\n",
    "plt.show()"
   ]
  },
  {
   "cell_type": "code",
   "execution_count": null,
   "id": "3bbbde2d-374a-4cce-a8f2-bb5685671389",
   "metadata": {},
   "outputs": [],
   "source": []
  }
 ],
 "metadata": {
  "kernelspec": {
   "display_name": "Python 3 (ipykernel)",
   "language": "python",
   "name": "python3"
  },
  "language_info": {
   "codemirror_mode": {
    "name": "ipython",
    "version": 3
   },
   "file_extension": ".py",
   "mimetype": "text/x-python",
   "name": "python",
   "nbconvert_exporter": "python",
   "pygments_lexer": "ipython3",
   "version": "3.11.2"
  }
 },
 "nbformat": 4,
 "nbformat_minor": 5
}
