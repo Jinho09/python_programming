{
 "cells": [
  {
   "cell_type": "code",
   "execution_count": 2,
   "id": "2c1e033d",
   "metadata": {},
   "outputs": [
    {
     "name": "stdout",
     "output_type": "stream",
     "text": [
      "몸무게 : 75\n",
      "키 : 181\n",
      "181 75\n",
      "몸무게 : 5\n",
      "키 : 1\n",
      "5 1\n",
      "몸무게 : 00\n"
     ]
    }
   ],
   "source": [
    "#2. 숫자 2개를 입력받아서 큰수와 작은수를 차례로 출력하는 프로그램을 작성하시오(반복문을 사용해서 계속 몸무게/키를 입력받음. 종료는  0을 두번 입력하면 종료하도록 함) \n",
    "\n",
    "while 1:\n",
    "\n",
    "  a = int(input(\"몸무게 : \"))\n",
    "  if a == 00 : \n",
    "      break\n",
    "  b = int(input(\"키 : \"))\n",
    "  if b == 00 : \n",
    "      break\n",
    "  \n",
    "  if a>b:\n",
    "     print(a,b)\n",
    "     \n",
    "  if b>a:\n",
    "      print(b,a)"
   ]
  },
  {
   "cell_type": "code",
   "execution_count": null,
   "id": "5b755733",
   "metadata": {},
   "outputs": [],
   "source": []
  }
 ],
 "metadata": {
  "kernelspec": {
   "display_name": "Python 3 (ipykernel)",
   "language": "python",
   "name": "python3"
  },
  "language_info": {
   "codemirror_mode": {
    "name": "ipython",
    "version": 3
   },
   "file_extension": ".py",
   "mimetype": "text/x-python",
   "name": "python",
   "nbconvert_exporter": "python",
   "pygments_lexer": "ipython3",
   "version": "3.11.2"
  }
 },
 "nbformat": 4,
 "nbformat_minor": 5
}
